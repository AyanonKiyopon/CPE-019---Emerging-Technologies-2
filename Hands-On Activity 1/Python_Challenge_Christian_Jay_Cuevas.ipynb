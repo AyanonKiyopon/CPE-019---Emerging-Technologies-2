{
  "nbformat": 4,
  "nbformat_minor": 0,
  "metadata": {
    "kernelspec": {
      "display_name": "Python 3",
      "language": "python",
      "name": "python3"
    },
    "language_info": {
      "codemirror_mode": {
        "name": "ipython",
        "version": 3
      },
      "file_extension": ".py",
      "mimetype": "text/x-python",
      "name": "python",
      "nbconvert_exporter": "python",
      "pygments_lexer": "ipython3",
      "version": "3.7.7"
    },
    "colab": {
      "provenance": []
    },
    "accelerator": "GPU"
  },
  "cells": [
    {
      "cell_type": "markdown",
      "metadata": {
        "id": "WUQHSYAH8A15"
      },
      "source": [
        "\n",
        "| <h1> Activity 1.1 </h1> | <h1> Python Challenge </h1> |\n",
        "|--- | --- |\n",
        "Name: Christian Jay L. Cuevas\n",
        "Course and Section: CPE019S3 <br>\n",
        "Date Submitted: 1/24/2024 <br>\n",
        "Instructor: Engr. Roman Richard\n",
        "Date Performed: 1/24/2024\n",
        "Date Submitted: 1/24/2024\n",
        "\n",
        "<hr>\n",
        "\n",
        "**Instructions**: Answer the questions or complete the tasks outlined below, use the specific method described if applicable. Insert a code cell after each text cell.\n",
        "\n",
        "**Objectives:**\n",
        "- Test understanding of Python basics\n",
        "- Review Python basic to intermediate commands\n",
        "\n",
        "<hr>"
      ]
    },
    {
      "cell_type": "markdown",
      "metadata": {
        "id": "-7dT6HEt8A1_"
      },
      "source": [
        "1. What is 3 to the power of 5?"
      ]
    },
    {
      "cell_type": "code",
      "source": [
        " 3**5"
      ],
      "metadata": {
        "id": "CiAIi_wlM23B",
        "colab": {
          "base_uri": "https://localhost:8080/"
        },
        "outputId": "21daf48b-36ba-49b0-f395-202858ea262c"
      },
      "execution_count": null,
      "outputs": [
        {
          "output_type": "execute_result",
          "data": {
            "text/plain": [
              "243"
            ]
          },
          "metadata": {},
          "execution_count": 1
        }
      ]
    },
    {
      "cell_type": "markdown",
      "source": [
        "###Observation:\n",
        "\n",
        "I observed that the expression ** is used to assign an exponent to a number. We can observe that 3**5 is equivalent to 3^5 in mathematics and the answer to that is 243"
      ],
      "metadata": {
        "id": "YLsJTJs0dvB1"
      }
    },
    {
      "cell_type": "markdown",
      "metadata": {
        "id": "TpUg2QaM8A2C"
      },
      "source": [
        "2.  Create a variable, s, containing the string \"This course is amazing!\". Using the variable, split the string into a list."
      ]
    },
    {
      "cell_type": "code",
      "source": [
        "s = \"This course is amazing!\"\n",
        "s.split()"
      ],
      "metadata": {
        "id": "AmSwowsTCUwA",
        "outputId": "2c0c97d2-b2e1-44e5-d809-e1b96365ff40",
        "colab": {
          "base_uri": "https://localhost:8080/"
        }
      },
      "execution_count": null,
      "outputs": [
        {
          "output_type": "execute_result",
          "data": {
            "text/plain": [
              "['This', 'course', 'is', 'amazing!']"
            ]
          },
          "metadata": {},
          "execution_count": 2
        }
      ]
    },
    {
      "cell_type": "markdown",
      "source": [
        "###Observation:\n",
        "\n",
        "The string stored in the variable s is \"This course is amazing!\", when the function .split() was applied to the variable s, it became a list. The list above has 4 elements which are 'This', 'course', 'is', and 'amazing!'. The original string was separated according to the **white space** between the original string."
      ],
      "metadata": {
        "id": "BSdpjfLrd1_V"
      }
    },
    {
      "cell_type": "markdown",
      "metadata": {
        "id": "B3yPY5pD8A2D"
      },
      "source": [
        "3.  Given the variables height and mountain, use .format() to print the following string:\n",
        "`The height of Mt. Everest is 8848 meters.`"
      ]
    },
    {
      "cell_type": "code",
      "source": [
        "height = 8848\n",
        "mountain = \"Mt. Everest\"\n",
        "\n",
        "print(\"The height of {} is {} meters\".format(mountain, height))\n",
        "\n",
        "#first alternative implementation\n",
        "print(\"The height of {0} is {1} meters\".format(mountain, height))"
      ],
      "metadata": {
        "colab": {
          "base_uri": "https://localhost:8080/"
        },
        "id": "GOmJf7xaemKv",
        "outputId": "0d811343-d4be-474e-f2d7-f9aec229fb8c"
      },
      "execution_count": null,
      "outputs": [
        {
          "output_type": "stream",
          "name": "stdout",
          "text": [
            "The height of Mt. Everest is 8848 meters\n",
            "The height of Mt. Everest is 8848 meters\n"
          ]
        }
      ]
    },
    {
      "cell_type": "markdown",
      "source": [
        "###Observation:\n",
        "My observation is that the .format() function replaces the expression {} with the value of the variable inside the parameter of the .format() function. In the alternative implementation, I specified the index of the parameter in the curly brackets which further proves that the .format() function formats the string with the defined variable inside the parameter.\n",
        "\n"
      ],
      "metadata": {
        "id": "c7p48E4ne-pH"
      }
    },
    {
      "cell_type": "markdown",
      "metadata": {
        "id": "WPFy00ne8A2F"
      },
      "source": [
        "4. Given the following nested list, use indexing to grab the word \"this\".\n",
        "\n",
        "```\n",
        "lst = ['a','b',[4,10,11],['c',[1,66,['this']],2,111],'e',7]\n",
        "```"
      ]
    },
    {
      "cell_type": "code",
      "source": [
        "lst = ['a','b',[4,10,11],['c',[1,66,['this']],2,111],'e',7]\n",
        "print(lst[3][1][2][0])"
      ],
      "metadata": {
        "colab": {
          "base_uri": "https://localhost:8080/"
        },
        "id": "AKjBzB92gBiP",
        "outputId": "e00a806e-0d0a-43ef-d667-64318dd5d6f1"
      },
      "execution_count": null,
      "outputs": [
        {
          "output_type": "stream",
          "name": "stdout",
          "text": [
            "this\n"
          ]
        }
      ]
    },
    {
      "cell_type": "markdown",
      "source": [
        "###Observation:\n",
        "I observed that the given list has a list inside it so to access the word \"this\" there are multiple indices. We all know that the counting of index in a list starts from 0 so I counted the indices of every element to get the word \"this\". So I first accessed the element in index 3 and then once inside the element in index 3 which is a list, I then accessed the element in index 1 and then once inside it I accessed the element in index 2 and then lastly since there is only one element in the last list, the index I accessed is 0."
      ],
      "metadata": {
        "id": "GpF940T7gT7W"
      }
    },
    {
      "cell_type": "markdown",
      "metadata": {
        "id": "cUA9kmWi8A2H"
      },
      "source": [
        "5. Given the following nested dictionary, grab the word \"that\". This exercise is a little more difficult.\n",
        "```\n",
        "d = {'k1':['val1','val2','val3',{'we':['need','to','go',{'deeper':[1,2,3,'that']}]}]}\n",
        "```"
      ]
    },
    {
      "cell_type": "code",
      "source": [
        "d = {'k1':['val1','val2','val3',{'we':['need','to','go',{'deeper':[1,2,3,'that']}]}]}\n",
        "\n",
        "print(d['k1'][3]['we'][3]['deeper'][3])"
      ],
      "metadata": {
        "colab": {
          "base_uri": "https://localhost:8080/"
        },
        "id": "Vfd-3cr4g5P2",
        "outputId": "44a22665-996e-4ceb-eaf5-bedaf9fc6b57"
      },
      "execution_count": null,
      "outputs": [
        {
          "output_type": "stream",
          "name": "stdout",
          "text": [
            "that\n"
          ]
        }
      ]
    },
    {
      "cell_type": "markdown",
      "source": [
        "###Observation:\n",
        "I observed that there are multiple dictionaries inside the original dictionary. To access it, you just need to go inside the values of the dictionary by accessing the key. In this case, the keys are 'k1', 'we' and 'deeper'. I traversed inside the dictionary and accessed the specific indices to grab the word 'that'."
      ],
      "metadata": {
        "id": "QFX_nhUYhrMe"
      }
    },
    {
      "cell_type": "markdown",
      "metadata": {
        "id": "-WrAu-KK8A2I"
      },
      "source": [
        "6. Create a function, GetDomain(), that grabs the email website domain from a string in the form: user@domain.com.\n",
        "So for example, passing \"user@domain.com\" would return: domain.com"
      ]
    },
    {
      "cell_type": "code",
      "source": [
        "def GetDomain(x):\n",
        "  find = \"@\"\n",
        "  for i in range(len(x)):\n",
        "    if(find == x[i]):\n",
        "      return x[i+1:]\n",
        "\n",
        "sample = \"user@domain.com\"\n",
        "test = GetDomain(sample)\n",
        "print(test)\n"
      ],
      "metadata": {
        "colab": {
          "base_uri": "https://localhost:8080/"
        },
        "id": "F4FEpmFuiNvm",
        "outputId": "2d0b2157-2a0e-4e31-f91c-ed82a5ef3c01"
      },
      "execution_count": null,
      "outputs": [
        {
          "output_type": "stream",
          "name": "stdout",
          "text": [
            "domain.com\n"
          ]
        }
      ]
    },
    {
      "cell_type": "markdown",
      "source": [
        "###Observation:\n",
        "I observed that in this code, we need to get a specific string after a certain symbol. In this case, we need to get the email website domain which is after the symbol \"@\". To get the specific website domain everytime after the \"@\", what I did is traverse the entire string and first find the symbol \"@\", this can be seen in the conditional statement (find == x[i]). Then after I found the \"@\" symbol, I sliced the string so that it will return the string after the \"@\" symbol."
      ],
      "metadata": {
        "id": "1ZWUHDOjj0cA"
      }
    },
    {
      "cell_type": "markdown",
      "metadata": {
        "id": "Fx4DIIz18A2K"
      },
      "source": [
        "7. Create a basic function, findInternet(), that returns True if the word 'Internet' is contained in the input string. Don't worry about edge cases like punctuation being attached to the word, but account for capitalization. (Hint: Please see https://docs.python.org/2/reference/expressions.html#in)"
      ]
    },
    {
      "cell_type": "code",
      "source": [
        "def findInternet(x):\n",
        "  find = \"Internet\"\n",
        "  if(find in x):\n",
        "    return True\n",
        "  else:\n",
        "    return False\n",
        "\n",
        "#First test expected true\n",
        "sentence = \"Internet is amazing and powerful!\"\n",
        "test = findInternet(sentence)\n",
        "print(test)\n",
        "\n",
        "#Second test expected false\n",
        "sentence2 = \"Why is the internet so powerful?\"\n",
        "test2 = findInternet(sentence2)\n",
        "print(test2)"
      ],
      "metadata": {
        "colab": {
          "base_uri": "https://localhost:8080/"
        },
        "id": "ErqJ4qaYkgIP",
        "outputId": "9edcd282-1154-4e38-ec7c-5120e332e447"
      },
      "execution_count": null,
      "outputs": [
        {
          "output_type": "stream",
          "name": "stdout",
          "text": [
            "True\n",
            "False\n"
          ]
        }
      ]
    },
    {
      "cell_type": "markdown",
      "source": [
        "###Observation:\n",
        "I observe that in this number, the function \"in\" finds the specific word in a sentence. If that word is in the sentence, for example \"Internet\", it will output True and else False."
      ],
      "metadata": {
        "id": "k5247Kpcl8a5"
      }
    },
    {
      "cell_type": "markdown",
      "metadata": {
        "id": "4pPortmo8A2M"
      },
      "source": [
        "8. Create a function, countIoT(), that counts the number of times the word \"IoT\" occurs in a string. Ignore edge cases but take into account capitalization."
      ]
    },
    {
      "cell_type": "code",
      "source": [
        "def countIoT(x):\n",
        "  find = \"IoT\"\n",
        "  xnew = x.split()\n",
        "  count = 0\n",
        "  for i in xnew:\n",
        "    if(find == i):\n",
        "      count+=1\n",
        "  return count\n",
        "\n",
        "#expected output is 1\n",
        "sentence = \"Iot IoT iot iOT\"\n",
        "test = countIoT(sentence)\n",
        "print(test)\n",
        "\n",
        "#expected output is 5\n",
        "sentence2 = \"IoT IoT IoT IoT IoT\"\n",
        "test2 = countIoT(sentence2)\n",
        "print(test2)"
      ],
      "metadata": {
        "colab": {
          "base_uri": "https://localhost:8080/"
        },
        "id": "CDPUQElpm9fY",
        "outputId": "f21c6d0d-247c-4402-8b2c-3ff65fbcf40b"
      },
      "execution_count": null,
      "outputs": [
        {
          "output_type": "stream",
          "name": "stdout",
          "text": [
            "1\n",
            "5\n"
          ]
        }
      ]
    },
    {
      "cell_type": "markdown",
      "source": [
        "###Observation:\n",
        "In this code, I observed that to find the word \"IoT\" and count it, we need to split the sentence and compare it to the word \"IoT\". Everytime the conditional statement (find==i) is satisfied, the variable count increments."
      ],
      "metadata": {
        "id": "iJ0gggRkowF4"
      }
    },
    {
      "cell_type": "markdown",
      "metadata": {
        "id": "Hg-mqSUd8A2O"
      },
      "source": [
        "9. Use lambda expressions and the filter() function to filter out words from a list that do not start with the letter 'd'. For example:\n",
        "```\n",
        "seq = ['data','salt' ,'dairy','cat', 'dog']\n",
        "```\n",
        "should be filtered down to:\n",
        "```\n",
        "['data', 'dairy', 'dog']\n",
        "```"
      ]
    },
    {
      "cell_type": "code",
      "source": [
        "seq = ['data','salt' ,'dairy','cat', 'dog']\n",
        "print(list(filter(lambda x: x.startswith('d'),seq)))"
      ],
      "metadata": {
        "colab": {
          "base_uri": "https://localhost:8080/"
        },
        "id": "ja4vgzw6pfTS",
        "outputId": "dd511282-226e-42f0-d408-a8df0d8535b7"
      },
      "execution_count": null,
      "outputs": [
        {
          "output_type": "stream",
          "name": "stdout",
          "text": [
            "['data', 'dairy', 'dog']\n"
          ]
        }
      ]
    },
    {
      "cell_type": "markdown",
      "source": [
        "###Observation:\n",
        "I observed that the function filter removes the elements associated with the lambda function. The lambda function is a type of function that can be used for one liner codes. The resulting list only has words that start with letter 'd'."
      ],
      "metadata": {
        "id": "zlJK2L6HqYbQ"
      }
    },
    {
      "cell_type": "markdown",
      "metadata": {
        "id": "i5HTJZtM8A2O"
      },
      "source": [
        "10. Use lambda expressions and the map() function to convert a list of words to upper case. For example:\n",
        "```\n",
        "seq = ['data','salt' ,'dairy','cat', 'dog']\n",
        "```\n",
        "should become:\n",
        "```\n",
        "['DATA', 'SALT', 'DAIRY', 'CAT', 'DOG']\n",
        "```"
      ]
    },
    {
      "cell_type": "code",
      "source": [
        "seq = ['data','salt' ,'dairy','cat', 'dog']\n",
        "print(list(map(lambda x: x.upper(),seq)))"
      ],
      "metadata": {
        "colab": {
          "base_uri": "https://localhost:8080/"
        },
        "id": "Z9IAEzfmqIKC",
        "outputId": "81a65ab2-cdac-4171-dfef-6ffb860f0f5e"
      },
      "execution_count": null,
      "outputs": [
        {
          "output_type": "stream",
          "name": "stdout",
          "text": [
            "['DATA', 'SALT', 'DAIRY', 'CAT', 'DOG']\n"
          ]
        }
      ]
    },
    {
      "cell_type": "markdown",
      "source": [
        "###Observation:\n",
        "I observed that the map function formats each of the elements of the list with the lambda function. The lambda function here is the x.upper() which makes the string all capitalized."
      ],
      "metadata": {
        "id": "Lg4tYFQPwN28"
      }
    },
    {
      "cell_type": "markdown",
      "metadata": {
        "id": "1t6lwmWv8A2Q"
      },
      "source": [
        "11. Imagine a smart thermostat that is connected to the door, so that it can detect, in addition to the temperature, when people enter or leave the house. <br><br>Write a function that, if the temperature is lower than 20 degrees Celsius, and there are people in the house (encoded as a boolean value to be passed as a parameter to the function), turns on the heating by returning the string \"Heating on\". When the temperature reaches 23 degrees or there are no people in the house, it returns the string \"Heating off\". When none of these conditions are met, the function returns \"Do nothing\"."
      ]
    },
    {
      "cell_type": "code",
      "source": [
        "def smartThermostat(temp, people):\n",
        "  if(temp <= 20 and people == True):\n",
        "    print(\"Heating on\")\n",
        "  elif(temp == 23 and people == False):\n",
        "    print(\"Heating off\")\n",
        "  else:\n",
        "    print(\"Do nothing\")\n",
        "\n",
        "smartThermostat(19, True)\n",
        "smartThermostat(23, False)\n",
        "smartThermostat(24, True)\n"
      ],
      "metadata": {
        "colab": {
          "base_uri": "https://localhost:8080/"
        },
        "id": "VOtcBKuwq7Zq",
        "outputId": "c2ccf5a2-5584-471e-a19d-6f40b0ee1d15"
      },
      "execution_count": null,
      "outputs": [
        {
          "output_type": "stream",
          "name": "stdout",
          "text": [
            "Heating on\n",
            "Heating off\n",
            "Do nothing\n"
          ]
        }
      ]
    },
    {
      "cell_type": "markdown",
      "source": [
        "###Observation:\n",
        "I observed that this is just a basic use of conditional statements and it can be solved by just using one function."
      ],
      "metadata": {
        "id": "vi97f7rjwjxC"
      }
    },
    {
      "cell_type": "markdown",
      "metadata": {
        "id": "HvZXBwvn8A2S"
      },
      "source": [
        "12. The function zip(list1, list2) returns a list of tuples, where the i-th tuple contains the i-th element from each of the argument lists. Use the zip function to create the following list of tuples: <br>\n",
        "```\n",
        "zipped = [('Parking', -1), ('Shops',0), ('Food Court',1), ('Offices',2)]\n",
        "```"
      ]
    },
    {
      "cell_type": "code",
      "metadata": {
        "id": "BmMSb6ys8A2T",
        "colab": {
          "base_uri": "https://localhost:8080/"
        },
        "outputId": "c7e35b57-b6a6-4e31-e5e8-b16a31acc769"
      },
      "source": [
        "# Code cell 13\n",
        "\n",
        "floor_types = ['Parking', 'Shops', 'Food Court', 'Offices']\n",
        "floor_numbers = range(-1,3)\n",
        "zipped = list(zip(floor_types, floor_numbers))\n",
        "#zipped = list(...)\n",
        "\n",
        "print(zipped)"
      ],
      "execution_count": null,
      "outputs": [
        {
          "output_type": "stream",
          "name": "stdout",
          "text": [
            "[('Parking', -1), ('Shops', 0), ('Food Court', 1), ('Offices', 2)]\n"
          ]
        }
      ]
    },
    {
      "cell_type": "markdown",
      "source": [
        "###Observation:\n",
        "I observed that the floor types and the floor numbers became the a list inside the tuple."
      ],
      "metadata": {
        "id": "dvgENfSG3RhT"
      }
    },
    {
      "cell_type": "markdown",
      "metadata": {
        "id": "I25Wddbt8A2U"
      },
      "source": [
        "13. Use the zip function and dict() to create a dictionary, elevator_dict, where the keys are the floor types and the values are the corresponding floor number so that:<br>\n",
        "```\n",
        "elevator_dict[-1] = 'Parking'\n",
        "```"
      ]
    },
    {
      "cell_type": "code",
      "metadata": {
        "id": "aalDO_TQ8A2U",
        "colab": {
          "base_uri": "https://localhost:8080/"
        },
        "outputId": "e093a7c9-6b8c-4c28-8c8c-b60491f8f707"
      },
      "source": [
        "# Code cell 14\n",
        "floor_types = ['Parking', 'Shops', 'Food Court', 'Offices']\n",
        "floors_numbers = range(-1,3)\n",
        "elevator_dict = dict(zip(floor_numbers,floor_types))\n",
        "#elevator_dict = dict(...)\n",
        "print(elevator_dict)"
      ],
      "execution_count": null,
      "outputs": [
        {
          "output_type": "stream",
          "name": "stdout",
          "text": [
            "{-1: 'Parking', 0: 'Shops', 1: 'Food Court', 2: 'Offices'}\n"
          ]
        }
      ]
    },
    {
      "cell_type": "code",
      "metadata": {
        "id": "qExH72Zv8A2V",
        "colab": {
          "base_uri": "https://localhost:8080/"
        },
        "outputId": "6b762686-a01a-4049-e4d6-4c1742c7c9fa"
      },
      "source": [
        "# Code cell 15\n",
        "# Verify elevator_dict[-1]\n",
        "print(elevator_dict[-1])"
      ],
      "execution_count": null,
      "outputs": [
        {
          "output_type": "stream",
          "name": "stdout",
          "text": [
            "Parking\n"
          ]
        }
      ]
    },
    {
      "cell_type": "markdown",
      "source": [
        "###Observation:\n",
        "I observed that this code is like the previous one but this is a dictionary and not a list. The floor numbers became the keys and the floor types became the values of the dictionary.\n",
        "\n"
      ],
      "metadata": {
        "id": "rg4WAKR53mJj"
      }
    },
    {
      "cell_type": "markdown",
      "metadata": {
        "id": "DXXKXxFv8A2V"
      },
      "source": [
        "14. Create an Elevator class. The constructor accepts the list of strings floor_types and the list of integers floor_numbers. The class implements the methods 'ask_which_floor' and 'go_to_floor'. The output of this methods should look as follows:\n",
        "```\n",
        "floor_types = ['Parking', 'Shops', 'Food Court', 'Offices']\n",
        "floors_numbers = range(-1,4)\n",
        "el = Elevator(floor_numbers, floor_types)\n",
        "el.go_to_floor(1)\n",
        "Going to Food Court floor!\n",
        "el.go_to_floor(-2)\n",
        "There is floor number -2 in this building.\n",
        "el.ask_which_floor('Offices')\n",
        "The floor Offices is the number: 2\n",
        "el.ask_which_floor('Swimming Pool')\n",
        "There is no Swimming Pool floor in this building.\n",
        "```"
      ]
    },
    {
      "cell_type": "code",
      "source": [
        "class Elevator:\n",
        "  def __init__(self, floor_numbers, floors_types):\n",
        "    self.FltypesandFlnumbers = dict(zip(floors_numbers, floor_types))\n",
        "  def go_to_floor(self, floor_number):\n",
        "    if floor_number in self.FltypesandFlnumbers:\n",
        "      print(\"Going to {} floor!\".format(self.FltypesandFlnumbers[floor_number]))\n",
        "    else:\n",
        "      print(\"There is no floor number {} in this building\".format(floor_number))\n",
        "  def ask_which_floor(self, floor_type):\n",
        "    if floor_type in self.FltypesandFlnumbers.values():\n",
        "        floor_number = {i for i, value in self.FltypesandFlnumbers.items() if value==floor_type}\n",
        "        print(\"The floor {} is the number {}\".format(floor_type, floor_number))\n",
        "    else:\n",
        "      print(\"There is no floor {} in this building\".format(floor_type))\n",
        "\n",
        "floor_types = ['Parking', 'Shops', 'Food Court', 'Offices']\n",
        "floors_numbers = range(-1,4)\n",
        "\n",
        "el = Elevator(floor_numbers, floor_types)\n",
        "el.go_to_floor(1)\n",
        "el.go_to_floor(-2)\n",
        "el.ask_which_floor('Offices')\n",
        "el.ask_which_floor('Swimming Pool')"
      ],
      "metadata": {
        "colab": {
          "base_uri": "https://localhost:8080/"
        },
        "id": "W3jagk4LvaGb",
        "outputId": "13ba79cc-75dc-4496-8012-e56ead999421"
      },
      "execution_count": null,
      "outputs": [
        {
          "output_type": "stream",
          "name": "stdout",
          "text": [
            "Going to Food Court floor!\n",
            "There is no floor number -2 in this building\n",
            "The floor Offices is the number {2}\n",
            "There is no floor Swimming Pool in this building\n"
          ]
        }
      ]
    },
    {
      "cell_type": "markdown",
      "source": [
        "###Observation:\n",
        "This code is very difficult for me because I forgot how to create a class and manipulate a dictionary. But with the help of the google, I managed to finish this problem and I successfully showed the value that we need to show. After this HOA, my memory of this language became refreshed and I finally remember all the things I learned in the previous courses."
      ],
      "metadata": {
        "id": "OUwIYwTa4JkD"
      }
    },
    {
      "cell_type": "markdown",
      "metadata": {
        "id": "a--gPBSR8A2Z"
      },
      "source": [
        "### Good Job!"
      ]
    }
  ]
}