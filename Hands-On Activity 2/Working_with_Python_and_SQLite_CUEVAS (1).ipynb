{
  "cells": [
    {
      "cell_type": "markdown",
      "metadata": {
        "id": "p22B__q-Jx8Q"
      },
      "source": [
        "Name: Christian Jay L. Cuevas<br>\n",
        "Course and Section: CPE32S3<br>\n",
        "Date of Submission: 1/31/24<br>\n",
        "Instructor: Engr. Roman Richard<br>\n",
        "\n",
        "### Working with Python and SQLite\n",
        "\n",
        "Objectives:<br>\n",
        "Use the sqlite3 module to interact with a SQL database.<br>\n",
        "Access data stored in SQLite using Python.<br>\n",
        "Describe the difference in interacting with data stored as a CSV file versus in SQLite.<br>\n",
        "Describe the benefits of accessing data using a database compared to a CSV file.<br>\n",
        "\n",
        "\n",
        "#### Required Resources\n",
        "1 PC with Internet access<br>\n",
        "Jupyter notebook<br>\n",
        "\n",
        "#### SQL refresh\n",
        "Very brief introduction to relational databases (temporary): http://searchsqlserver.techtarget.com/definition/relational-database</li>\n",
        "More videos on relational databases: https://www.youtube.com/watch?v=jyju2P-7hPA&list=PLAwxTw4SYaPm4R6j_wzVOCV9fJaiQDYx4</li>\n",
        "Introduction to SQL: http://www.w3schools.com/sql/sql_intro.asp</li>\n",
        "Working with SQLite via the command-line: https://www.sqlite.org/cli.html"
      ]
    },
    {
      "cell_type": "markdown",
      "metadata": {
        "id": "mAXAdgu4Jx8W"
      },
      "source": [
        "#### Part 1: Python and SQL\n",
        "When you open a CSV in python, and assign it to a variable name, you are using your computers memory to save that variable. Accessing data from a database like SQL is not only more efficient, but also it allows you to subset and import only the parts of the data that you need.\n",
        "\n",
        "<b>The sqlite3 module</b><br>\n",
        "The sqlite3 module provides a straightforward interface for interacting with SQLite databases. A connection object is created using sqlite3.connect(); the connection must be closed at the end of the session with the .close() command. While the connection is open, any interactions with the database require you to make a cursor object with the .cursor() command. The cursor is then ready to perform all kinds of operations with .execute().\n",
        "\n",
        "<b>Step 1: Create a SQL connection to our SQLite database </b><br>\n",
        "Creating a new SQLite database is as simple as creating a connection using the sqlite3 module in the Python standard library. To establish a connection all you need to do is pass a file path to the connect(...) method in the sqlite3 module, and if the database represented by the file does not exists one will be created at that path."
      ]
    },
    {
      "cell_type": "code",
      "execution_count": null,
      "metadata": {
        "id": "qSK9nmL6Jx8X"
      },
      "outputs": [],
      "source": [
        "import sqlite3\n",
        "con = sqlite3.connect('sqlite.db')"
      ]
    },
    {
      "cell_type": "markdown",
      "source": [
        "- OBSERVATION:\n",
        "\n",
        "  I observed here that we imported a module named sqlite3 and then accessed a method called connect() which allows us to connect to a specified SQL database.\n",
        "\n",
        "- ANALYSIS:\n",
        "\n",
        "  >import sqlite3\n",
        "  - This line of code is responsible for importing a module named sqlite3. The sqlite3 module contains different methods for creating, editing and managing a database while also being integrated to the Python Language.\n",
        "\n",
        "  >con = sqlite3.connect('sqlite.db')\n",
        "  - This line of code creates a variable named con. The variable con contains the connection with the specified database named 'sqlite.db'. The connect() method we called from the sqlite3 module allows us to specify a path leading to the database.\n",
        "  \n"
      ],
      "metadata": {
        "id": "IqtyCvbfV3dg"
      }
    },
    {
      "cell_type": "markdown",
      "metadata": {
        "id": "8AlKK9e5Jx8Z"
      },
      "source": [
        "You will find that in everyday database programming you will be constantly creating connections to your database, so it is a good idea to wrap this simple connection statement into a reusable generalized function."
      ]
    },
    {
      "cell_type": "code",
      "execution_count": null,
      "metadata": {
        "id": "ISpn1o2OJx8Z"
      },
      "outputs": [],
      "source": [
        "import os\n",
        "import sqlite3\n",
        "\n",
        "# create a default path to connect to and create (if necessary) a database\n",
        "# called 'database.sqlite3' in the same directory as this script\n",
        "DEFAULT_PATH = os.path.join('sqlite.db')\n",
        "\n",
        "def db_connect(db_path=DEFAULT_PATH):\n",
        "    con = sqlite3.connect(db_path)\n",
        "    return con"
      ]
    },
    {
      "cell_type": "markdown",
      "source": [
        "- OBSERVATION:\n",
        "\n",
        "  I observed in this line of code that we added a new module to import which is os. The os module allowed us to call the path.join() method which combines the path specified inside it. I also noticed that we created a new function which allows us to easily create instances of sqlite3 connections.\n",
        "\n",
        "- ANALYSIS:\n",
        "  >import os\n",
        "  >\n",
        "  >import sqlite3\n",
        "  - These lines of code is used in importing the os module and sqlite3 module. The os module allows us to use operating systems functions such as directing of a path or opening files. The sqlite3 allows us to use the functions of SQLite to create, edit or manage databases.\n",
        "\n",
        "  >DEFAULT_PATH = os.path.join('sqlite.db')\n",
        "  - This line of code specifies the paths that will be joined. In this case, we only have one path which is 'sqlite.db' since we are doing this in a google colab. If we're using real life databases, we need to specify their paths for example os.path.join(\"/home\", DBPATH).\n",
        "\n",
        "  >\n"
      ],
      "metadata": {
        "id": "j5DWQvHxV9RY"
      }
    },
    {
      "cell_type": "markdown",
      "metadata": {
        "id": "CqX5TDkiJx8a"
      },
      "source": [
        "<b>Step 2: Create a table on the SQLite database </b><br>\n",
        "The code below creates a table on the sqlite.db database. The cursor() command is needed to make a cursor object to interact with the created database. The cursor is then ready to perform all kinds of operations with .execute(). The execute() command performs a query that creates a table using the parameters as shown. The commit() command\n",
        "\n",
        "In order to create database tables you need to have an idea of the structure of the data you are interested in storing. There are many design considerations that go into defining the tables of a relational database. To aid in the discussion of SQLite database programming with Python, we will be working off the premise that a database needs to be created for a fictitious book store that has the below data already collected on book sales.\n",
        "\n",
        "<table style=\"width:75%\">\n",
        "  <tr>\n",
        "    <th>Customer</th>\n",
        "    <th>Date</th>\n",
        "    <th>Product</th>\n",
        "      <th>Price</th>\n",
        "  </tr>\n",
        "  <tr>\n",
        "    <td>Allan Turing</td>\n",
        "    <td>2/22/1944</td>\n",
        "    <td>Introduction to Combinatorics</td>\n",
        "    <td>7.99</td>\n",
        "  </tr>\n",
        "  <tr>\n",
        "    <td>Donald Knuth</td>\n",
        "    <td>7/3/1967</td>\n",
        "    <td>A Guide to Writing Short Stories</td>\n",
        "    <td>17.99</td>\n",
        "  </tr>\n",
        "    <td>Donald Knuth</td>\n",
        "    <td>7/3/1967</td>\n",
        "    <td>Data Structures and Algorithms</td>\n",
        "    <td>11.99</td>\n",
        "   <tr>\n",
        "    <td>Edgar Codd</td>\n",
        "    <td>1/12/1969</td>\n",
        "    <td>Advanced Set Theory</td>\n",
        "    <td>16.99</td>\n",
        "  </tr>\n",
        "</table>\n",
        "Upon inspecting this data, it is evident that it contains information about customers, products, and orders. A common pattern in database design for transactional systems of this type are to break the orders into two additional tables, orders and line items (sometimes referred to as order details) to achieve greater normalization.\n",
        "\n",
        "Enter the SQL for creating the customers and products tables follows:"
      ]
    },
    {
      "cell_type": "code",
      "execution_count": null,
      "metadata": {
        "colab": {
          "base_uri": "https://localhost:8080/"
        },
        "id": "B8qJv6F8Jx8a",
        "outputId": "358cfc30-7601-4809-885d-8c6fbe125366"
      },
      "outputs": [
        {
          "output_type": "execute_result",
          "data": {
            "text/plain": [
              "<sqlite3.Cursor at 0x787dad0ea0c0>"
            ]
          },
          "metadata": {},
          "execution_count": 129
        }
      ],
      "source": [
        "con = db_connect() # connect to the database\n",
        "cur = con.cursor() # instantiate a cursor object\n",
        "customers_sql = \"\"\"CREATE TABLE customers(id integer PRIMARY KEY, first_name text NOT NULL, last_name text NOT NULL)\"\"\"\n",
        "cur.execute(customers_sql)\n",
        "products_sql = \"\"\"CREATE TABLE products (id integer PRIMARY KEY,name text NOT NULL,price real NOT NULL)\"\"\"\n",
        "cur.execute(products_sql)"
      ]
    },
    {
      "cell_type": "markdown",
      "metadata": {
        "id": "5MtsHKyFJx8b"
      },
      "source": [
        "The above code creates a connection object then uses it to instantiate a cursor object. The cursor object is used to execute SQL statements on the SQLite database.\n",
        "\n",
        "With the cursor created, we write the SQL to create the customers table, giving it a primary key along with a first and last name text field and assign it to a variable called customers_sql. Then we call the execute(...) method of the cursor object passing it the customers_sql variable. Similar steps were don for the products table.\n",
        "\n",
        "You can query the sqlite_master table, a built-in SQLite metadata table, to verify that the above commands were successful.\n",
        "\n",
        "To see all the tables in the currently connected database query the name column of the sqlite_master table where the type is equal to \"table\"."
      ]
    },
    {
      "cell_type": "code",
      "execution_count": null,
      "metadata": {
        "colab": {
          "base_uri": "https://localhost:8080/"
        },
        "id": "o1kaRihFJx8c",
        "outputId": "51fba7c3-56ff-45de-ca05-de500395cb87"
      },
      "outputs": [
        {
          "output_type": "stream",
          "name": "stdout",
          "text": [
            "[('customers',), ('products',)]\n"
          ]
        }
      ],
      "source": [
        "cur.execute(\"SELECT name FROM sqlite_master WHERE type='table'\")\n",
        "\n",
        "print(cur.fetchall())\n"
      ]
    },
    {
      "cell_type": "markdown",
      "metadata": {
        "id": "9NzbFuEuJx8d"
      },
      "source": [
        "To get a look at the schema of the tables query the sql column of the same table where the type is still \"table\" and the name is equal to \"customers\" and/or \"products\"."
      ]
    },
    {
      "cell_type": "code",
      "execution_count": null,
      "metadata": {
        "colab": {
          "base_uri": "https://localhost:8080/"
        },
        "id": "wmFMiddJJx8d",
        "outputId": "b6c0e91b-037f-41ac-aaf5-4f5b502cb8a5"
      },
      "outputs": [
        {
          "output_type": "stream",
          "name": "stdout",
          "text": [
            "CREATE TABLE customers(id integer PRIMARY KEY, first_name text NOT NULL, last_name text NOT NULL)\n"
          ]
        }
      ],
      "source": [
        "cur.execute(\"\"\"SELECT sql FROM sqlite_master WHERE type='table'AND name='customers'\"\"\")\n",
        "print(cur.fetchone()[0])"
      ]
    },
    {
      "cell_type": "code",
      "source": [
        "cur.execute(\"\"\"SELECT sql FROM sqlite_master WHERE type='table'AND name='products'\"\"\")\n",
        "print(cur.fetchone()[0])"
      ],
      "metadata": {
        "colab": {
          "base_uri": "https://localhost:8080/"
        },
        "id": "HWZkfQV7BDxm",
        "outputId": "0c941b34-8bc3-4b05-dfdf-2e573d9f70ee"
      },
      "execution_count": null,
      "outputs": [
        {
          "output_type": "stream",
          "name": "stdout",
          "text": [
            "CREATE TABLE products (id integer PRIMARY KEY,name text NOT NULL,price real NOT NULL)\n"
          ]
        }
      ]
    },
    {
      "cell_type": "markdown",
      "metadata": {
        "id": "VgFPES2zJx8d"
      },
      "source": [
        "The next table to define will be the orders table which associates customers to orders via a foreign key and the date of their purchase. Since SQLite does not support an actual date/time data type (or data class to be consistent with the SQLite vernacular) all dates will be represented as text values."
      ]
    },
    {
      "cell_type": "code",
      "execution_count": null,
      "metadata": {
        "colab": {
          "base_uri": "https://localhost:8080/"
        },
        "id": "VsKWhwPXJx8e",
        "outputId": "cd69683c-485c-416c-fa13-0ea72d12bbd2"
      },
      "outputs": [
        {
          "output_type": "execute_result",
          "data": {
            "text/plain": [
              "<sqlite3.Cursor at 0x787dad0ea0c0>"
            ]
          },
          "metadata": {},
          "execution_count": 133
        }
      ],
      "source": [
        "orders_sql = \"\"\"\n",
        "... CREATE TABLE orders (\n",
        "...     id integer PRIMARY KEY,\n",
        "...     date text NOT NULL,\n",
        "...     customer_id integer,\n",
        "...     FOREIGN KEY (customer_id) REFERENCES customers (id))\"\"\"\n",
        "cur.execute(orders_sql)"
      ]
    },
    {
      "cell_type": "markdown",
      "metadata": {
        "id": "9B4vFO_fJx8e"
      },
      "source": [
        "The final table to define will be the line items table which gives a detailed accounting of the products in each order."
      ]
    },
    {
      "cell_type": "code",
      "execution_count": null,
      "metadata": {
        "colab": {
          "base_uri": "https://localhost:8080/"
        },
        "id": "ihoqHKTJJx8e",
        "outputId": "ae35fcaf-6146-49d6-d59b-37a7a1628974"
      },
      "outputs": [
        {
          "output_type": "execute_result",
          "data": {
            "text/plain": [
              "<sqlite3.Cursor at 0x787dad0ea0c0>"
            ]
          },
          "metadata": {},
          "execution_count": 134
        }
      ],
      "source": [
        "lineitems_sql = \"\"\"\n",
        "... CREATE TABLE lineitems (\n",
        "...     id integer PRIMARY KEY,\n",
        "...     quantity integer NOT NULL,\n",
        "...     total real NOT NULL,\n",
        "...     product_id integer,\n",
        "...     order_id integer,\n",
        "...     FOREIGN KEY (product_id) REFERENCES products (id),\n",
        "...     FOREIGN KEY (order_id) REFERENCES orders (id))\"\"\"\n",
        "cur.execute(lineitems_sql)"
      ]
    },
    {
      "cell_type": "markdown",
      "metadata": {
        "id": "OQAM0oCVJx8e"
      },
      "source": [
        "<b>Step 3: Loading the Data</b><br>\n",
        "In this section we will use INSERT to our sample data into the tables just created. A natural starting place would be to populate the products table first because without products we cannot have a sale and thus would not have the foreign keys to relate to the line items and orders. Looking at the sample data, we see that there are four products:\n",
        "\n",
        "1. Introduction to Combinatorics - 7.99\n",
        "2. A Guide to Writing Short Stories -17.99\n",
        "3. Data Structures and Algorithms - 11.99\n",
        "4. Advanced Set Theory - 16.99\n",
        "\n",
        "The workflow for executing INSERT statements is simply:\n",
        "\n",
        "1. Connect to the database<br>\n",
        "2. Create a cursor object<br>\n",
        "3. Write a parameterized insert SQL statement and store as a variable<br>\n",
        "4. Call the execute method on the cursor object passing it the sql variable and the values, as a tuple, to be inserted into the table<br><br>\n",
        "Given this general outline let us write some more code."
      ]
    },
    {
      "cell_type": "code",
      "execution_count": null,
      "metadata": {
        "id": "2EVl0_9hJx8f"
      },
      "outputs": [],
      "source": [
        "con = db_connect()\n",
        "cur = con.cursor()\n",
        "product_sql = \"INSERT INTO products (name, price) VALUES (?, ?)\"\n",
        "cur.execute(product_sql, ('Introduction to Combinatorics', 7.99))\n",
        "cur.execute(product_sql, ('A Guide to Writing Short Stories', 17.99))\n",
        "cur.execute(product_sql, ('Data Structures and Algorithms', 11.99))\n",
        "cur.execute(product_sql, ('Advanced Set Theory', 16.99))\n",
        "con.commit()"
      ]
    },
    {
      "cell_type": "markdown",
      "metadata": {
        "id": "a529wzEEJx8f"
      },
      "source": [
        "The insert statement follows the standard SQL syntax except for the ? bit. The ?'s are actually placeholders in what is known as a \"parameterized query\".\n",
        "\n",
        "Parameterized queries are an important feature of essentially all database interfaces to modern high level programming languages such as the sqlite3 module in Python. This type of query serves to improve the efficiency of queries that are repeated several times. Perhaps more important, they also sanitize inputs that take the place of the ? placeholders which are passed in during the call to the execute method of the cursor object to prevent nefarious inputs leading to SQL injection."
      ]
    },
    {
      "cell_type": "markdown",
      "metadata": {
        "id": "tX0hQae7Jx8f"
      },
      "source": [
        "To populate the remaining tables we are going to follow a slightly different pattern to change things up a bit. The workflow for each order, identified by a combination of customer first and last name and the purchase date, will be:\n",
        "\n",
        "1. Insert the new customer into the customers table and retrieve its primary key id\n",
        "2. Create an order entry based off the customer id and the purchase date then retrieve its primary key id\n",
        "3. For each product in the order determine its primary key id and create a line item entry associating the order and the product\n",
        "4. To make things simpler on ourselves let us do a quick look up of all our products. For now do not worry too much about the mechanics of the SELECT SQL statement as we will devote a section to it shortly."
      ]
    },
    {
      "cell_type": "code",
      "execution_count": null,
      "metadata": {
        "colab": {
          "base_uri": "https://localhost:8080/"
        },
        "id": "LK5Ja4C5Jx8f",
        "outputId": "5251a139-9a20-4b4e-dfda-66d8eb78d4aa"
      },
      "outputs": [
        {
          "output_type": "stream",
          "name": "stdout",
          "text": [
            "Id   Product                            Price\n",
            "1    Introduction to Combinatorics       7.99\n",
            "2    A Guide to Writing Short Stories   17.99\n",
            "3    Data Structures and Algorithms     11.99\n",
            "4    Advanced Set Theory                16.99\n"
          ]
        }
      ],
      "source": [
        "cur.execute(\"SELECT id, name, price FROM products\")\n",
        "formatted_result = [f\"{id:<5}{name:<35}{price:>5}\" for id, name, price in cur.fetchall()]\n",
        "id, product, price = \"Id\", \"Product\", \"Price\"\n",
        "print('\\n'.join([f\"{id:<5}{product:<35}{price:>5}\"] + formatted_result))"
      ]
    },
    {
      "cell_type": "markdown",
      "metadata": {
        "id": "4y9wYQYnJx8g"
      },
      "source": [
        "The first order was placed on Feb 22, 1944 by Alan Turing who purchased Introduction to Combinatorics for $7.99.\n",
        "\n",
        "Start by making a new customer record for Mr. Turing then determine his primary key id by accessing the lastrowid field of the cursor object."
      ]
    },
    {
      "cell_type": "code",
      "execution_count": null,
      "metadata": {
        "colab": {
          "base_uri": "https://localhost:8080/"
        },
        "id": "FI15KET5Jx8g",
        "outputId": "95398212-4a43-462d-c65d-9957e0b497d5"
      },
      "outputs": [
        {
          "output_type": "stream",
          "name": "stdout",
          "text": [
            "1\n"
          ]
        }
      ],
      "source": [
        "customer_sql = \"INSERT INTO customers (first_name, last_name) VALUES (?, ?)\"\n",
        "cur.execute(customer_sql, ('Alan', 'Turing'))\n",
        "customer_id = cur.lastrowid\n",
        "print(customer_id)\n",
        "con.commit()"
      ]
    },
    {
      "cell_type": "markdown",
      "metadata": {
        "id": "EAH-ViiRJx8g"
      },
      "source": [
        "<b style=\"color:red;\">Task 1: Insert 3 more records on the customers table</b>\n",
        "<br>\n",
        "Insert the following records:\n",
        "1. Donald Knuth\n",
        "2. Edgar Codd\n",
        "3. Martin Forest\n"
      ]
    },
    {
      "cell_type": "code",
      "execution_count": null,
      "metadata": {
        "id": "9F_FSCM1Jx8g",
        "colab": {
          "base_uri": "https://localhost:8080/"
        },
        "outputId": "fe4860f2-a569-40dd-fb41-583fd5efaea1"
      },
      "outputs": [
        {
          "output_type": "stream",
          "name": "stdout",
          "text": [
            "[(1, 'Alan', 'Turing'), (2, 'Donald', 'Knuth'), (3, 'Edgar', 'Codd'), (4, 'Martin', 'Forest')]\n"
          ]
        }
      ],
      "source": [
        "#Implementation 1\n",
        "cur.execute(customer_sql, ('Donald','Knuth'))\n",
        "cur.execute(customer_sql, ('Edgar','Codd'))\n",
        "cur.execute(customer_sql, ('Martin','Forest'))\n",
        "cur.execute(\"SELECT id, first_name, last_name FROM customers\")\n",
        "print(cur.fetchall())\n",
        "con.commit()"
      ]
    },
    {
      "cell_type": "code",
      "source": [
        "#Implementation 2\n",
        "def customerTable(first,last):\n",
        "  customer_sql = \"INSERT INTO customers (first_name, last_name) VALUES (?, ?)\"\n",
        "  cur.execute(customer_sql, (first, last))\n",
        "  customer_id = cur.lastrowid\n",
        "  print(customer_id)\n",
        "\n",
        "customerTable('Donald', 'Knuth')\n",
        "customerTable('Edgar', 'Codd')\n",
        "customerTable('Martin', 'Forest')\n",
        "\n",
        "con.rollback()"
      ],
      "metadata": {
        "id": "xv5dapqQpAsY"
      },
      "execution_count": null,
      "outputs": []
    },
    {
      "cell_type": "code",
      "source": [
        "#Formatted Output\n",
        "cur.execute(\"SELECT id, first_name, last_name FROM customers\")\n",
        "formatted_result = [f\"{id:<5}{first_name:<15}{last_name:>5}\" for id, first_name, last_name in cur.fetchall()]\n",
        "id, first_name, last_name = \"Id\", \"First name\", \"Last name\"\n",
        "print('\\n'.join([f\"{id:<5}{first_name:<15}{last_name:>5}\"] + formatted_result))"
      ],
      "metadata": {
        "colab": {
          "base_uri": "https://localhost:8080/"
        },
        "id": "gR-6RPQIWsYv",
        "outputId": "c23f3be2-aaed-44e8-80c7-e483cd621cda"
      },
      "execution_count": null,
      "outputs": [
        {
          "output_type": "stream",
          "name": "stdout",
          "text": [
            "Id   First name     Last name\n",
            "1    Alan           Turing\n",
            "2    Donald         Knuth\n",
            "3    Edgar           Codd\n",
            "4    Martin         Forest\n"
          ]
        }
      ]
    },
    {
      "cell_type": "markdown",
      "metadata": {
        "id": "mzXtR6M1Jx8g"
      },
      "source": [
        "We can now create an order entry, collect the new order id value and associate it to a line item entry along with the product Mr. Turing ordered."
      ]
    },
    {
      "cell_type": "code",
      "execution_count": null,
      "metadata": {
        "id": "kJqJhSKaJx8g",
        "colab": {
          "base_uri": "https://localhost:8080/"
        },
        "outputId": "3ff57cab-3861-4924-d653-c7240366736a"
      },
      "outputs": [
        {
          "output_type": "stream",
          "name": "stdout",
          "text": [
            "1\n"
          ]
        }
      ],
      "source": [
        "order_sql = \"INSERT INTO orders (date, customer_id) VALUES (?, ?)\"\n",
        "date = \"1944-02-22\" # ISO formatted date\n",
        "cur.execute(order_sql, (date, customer_id))\n",
        "order_id = cur.lastrowid\n",
        "print(order_id)\n",
        "con.commit()"
      ]
    },
    {
      "cell_type": "markdown",
      "metadata": {
        "id": "o3UFHuLgJx8g"
      },
      "source": [
        "<b style=\"color:red;\">Task 2: Insert 3 more records on the orders table</b>\n",
        "<br>\n",
        "Insert the following records:\n",
        "1. for Donald Knuth, date is 7/3/1967\n",
        "2. Edgar Codd, date is 1/12/1969\n",
        "3. Martin Forest, date is 1/15/2021"
      ]
    },
    {
      "cell_type": "code",
      "execution_count": null,
      "metadata": {
        "id": "s52SPnXYJx8h",
        "colab": {
          "base_uri": "https://localhost:8080/"
        },
        "outputId": "cd1127bf-a200-45f9-858b-a020fb7aa1ad"
      },
      "outputs": [
        {
          "output_type": "stream",
          "name": "stdout",
          "text": [
            "(1, '1944-02-22', 1)\n",
            "(2, '1967-07-03', 2)\n",
            "(3, '1969-01-12', 3)\n",
            "(4, '2021-01-15', 4)\n"
          ]
        }
      ],
      "source": [
        "#Implementation 1\n",
        "new_customer_sql = \"SELECT Id FROM customers WHERE first_name = ? \"\n",
        "date1 = \"1967-07-03\"\n",
        "date2 = \"1969-01-12\"\n",
        "date3 = \"2021-01-15\"\n",
        "\n",
        "cur.execute(new_customer_sql,(\"Donald\",))\n",
        "new_customer_id = cur.fetchone()[0]\n",
        "cur.execute(order_sql,(date1, new_customer_id))\n",
        "\n",
        "cur.execute(new_customer_sql,(\"Edgar\",))\n",
        "new_customer_id = cur.fetchone()[0]\n",
        "cur.execute(order_sql,(date2, new_customer_id))\n",
        "\n",
        "cur.execute(new_customer_sql,(\"Martin\",))\n",
        "new_customer_id = cur.fetchone()[0]\n",
        "cur.execute(order_sql,(date3, new_customer_id))\n",
        "\n",
        "cur.execute(\"SELECT * FROM orders\")\n",
        "all_orders = cur.fetchall()\n",
        "for row in all_orders:\n",
        "  print(row)\n",
        "\n",
        "con.rollback()"
      ]
    },
    {
      "cell_type": "code",
      "source": [
        "#Implementation 2\n",
        "date1 = \"1967-07-03\"\n",
        "date2 = \"1969-01-12\"\n",
        "date3 = \"2021-01-15\"\n",
        "def ordersTable(date, first_name):\n",
        "  order_sql = \"INSERT INTO orders (date, customer_id) VALUES (?, ?)\"\n",
        "  customer_sql = \"SELECT Id FROM customers WHERE first_name = ? \"\n",
        "\n",
        "  cur.execute(customer_sql,(first_name,))\n",
        "  customer_id = cur.fetchone()[0]\n",
        "\n",
        "  cur.execute(order_sql,(date,customer_id))\n",
        "\n",
        "ordersTable(date1, \"Donald\")\n",
        "ordersTable(date2, \"Edgar\")\n",
        "ordersTable(date3, \"Martin\")\n",
        "\n",
        "\n",
        "cur.execute(\"SELECT * FROM orders\")\n",
        "all_orders = cur.fetchall()\n",
        "for row in all_orders:\n",
        "  print(row)\n",
        "\n",
        "con.rollback()"
      ],
      "metadata": {
        "colab": {
          "base_uri": "https://localhost:8080/"
        },
        "id": "4zlTh5hqqZQM",
        "outputId": "3c8c20d2-b348-4245-b2e5-c81de1c62793"
      },
      "execution_count": null,
      "outputs": [
        {
          "output_type": "stream",
          "name": "stdout",
          "text": [
            "(1, '1944-02-22', 1)\n",
            "(2, '1967-07-03', 2)\n",
            "(3, '1969-01-12', 3)\n",
            "(4, '2021-01-15', 4)\n"
          ]
        }
      ]
    },
    {
      "cell_type": "markdown",
      "metadata": {
        "id": "PqIkNkCmJx8h"
      },
      "source": [
        "Each order can be inserted into the lineitems as shown below."
      ]
    },
    {
      "cell_type": "code",
      "execution_count": null,
      "metadata": {
        "id": "NKnOWCRnJx8h"
      },
      "outputs": [],
      "source": [
        "li_sql = \"\"\"INSERT INTO lineitems\n",
        "...       (order_id, product_id, quantity, total)\n",
        "...     VALUES (?, ?, ?, ?)\"\"\"\n",
        "product_id = 1\n",
        "cur.execute(li_sql, (order_id, 1, 1, 7.99))\n",
        "con.commit()"
      ]
    },
    {
      "cell_type": "markdown",
      "metadata": {
        "id": "JxhFXfSjJx8h"
      },
      "source": [
        "The remaining records are loaded exactly the same except for the order made to Donald Knuth, which will receive two line item entries."
      ]
    },
    {
      "cell_type": "markdown",
      "metadata": {
        "id": "aU-WsWhxJx8h"
      },
      "source": [
        "<b style=\"color:red;\">Task 3: Insert 3 more records on the lineitems</b>\n",
        "<br>\n",
        "Insert the following records:\n",
        "1. for Donald Knuth, insert (order_id, 2, 2, 17.99)\n",
        "2. Edgar Codd, insert (order_id, 3, 3, 11.99)\n",
        "3. Martin Forest, insert (order_id, 4, 4, 10.99)"
      ]
    },
    {
      "cell_type": "code",
      "execution_count": null,
      "metadata": {
        "id": "FYzOZwuAJx8h",
        "colab": {
          "base_uri": "https://localhost:8080/"
        },
        "outputId": "191462ee-53f6-4556-818f-6550c027eba4"
      },
      "outputs": [
        {
          "output_type": "execute_result",
          "data": {
            "text/plain": [
              "<sqlite3.Cursor at 0x787dad0ea140>"
            ]
          },
          "metadata": {},
          "execution_count": 143
        }
      ],
      "source": [
        "#code here\n",
        "new_order_sql = \"SELECT Id FROM customers WHERE first_name = ? \"\n",
        "cur.execute(new_order_sql,(\"Donald\",))\n",
        "new_order_id = cur.fetchone()[0]\n",
        "cur.execute(li_sql, (new_order_id, 2, 2, 17.99))\n",
        "\n",
        "cur.execute(new_order_sql,(\"Edgar\",))\n",
        "new_order_id = cur.fetchone()[0]\n",
        "cur.execute(li_sql, (new_order_id, 3, 3, 11.99))\n",
        "\n",
        "cur.execute(new_order_sql,(\"Martin\",))\n",
        "new_order_id = cur.fetchone()[0]\n",
        "cur.execute(li_sql, (new_order_id, 4, 4, 10.99))"
      ]
    },
    {
      "cell_type": "code",
      "source": [
        "cur.execute(\"SELECT * FROM lineitems\")\n",
        "all_orders1 = cur.fetchall()\n",
        "for row1 in all_orders1:\n",
        "  print(row1)\n"
      ],
      "metadata": {
        "colab": {
          "base_uri": "https://localhost:8080/"
        },
        "id": "s-M-V34AiD7t",
        "outputId": "7c1b8a7c-00e0-48e0-e5d7-5a704ee0a84f"
      },
      "execution_count": null,
      "outputs": [
        {
          "output_type": "stream",
          "name": "stdout",
          "text": [
            "(1, 1, 7.99, 1, 1)\n",
            "(2, 2, 17.99, 2, 2)\n",
            "(3, 3, 11.99, 3, 3)\n",
            "(4, 4, 10.99, 4, 4)\n"
          ]
        }
      ]
    },
    {
      "cell_type": "code",
      "source": [
        "cur.execute(\"SELECT * FROM lineitems\")\n",
        "formatted_result = [f\"{id:<5}{order_id:<5}{product_id:<15}{quantity:<15}{total:>5}\" for id, order_id, product_id, quantity, total in cur.fetchall()]\n",
        "id, order_id, product_id, quantity, total = \"ID\", \"Order ID\", \"Product ID\", \"Quantity\", \"Total\"\n",
        "print('\\n'.join([f\"{id:<5}{order_id:<5}{product_id:<15}{quantity:<15}{total:>5}\"] + formatted_result))"
      ],
      "metadata": {
        "colab": {
          "base_uri": "https://localhost:8080/"
        },
        "id": "kMAm84wAkIT9",
        "outputId": "e7f9f1de-496b-4650-c196-1f448a5e486d"
      },
      "execution_count": null,
      "outputs": [
        {
          "output_type": "stream",
          "name": "stdout",
          "text": [
            "ID   Order IDProduct ID     Quantity       Total\n",
            "1    1    7.99           1                  1\n",
            "2    2    17.99          2                  2\n",
            "3    3    11.99          3                  3\n",
            "4    4    10.99          4                  4\n"
          ]
        }
      ]
    },
    {
      "cell_type": "markdown",
      "metadata": {
        "id": "tcXyqdYvJx8i"
      },
      "source": [
        "<b>Step 3: Querying the Database</b><br>\n",
        "\n",
        "Generally the most common action performed on a database is a retrieval of some of the data stored in it via a SELECT statement. For this section, we will be demonstrating how to use the sqlite3 interface to perform simple SELECT queries.\n",
        "\n",
        "To perform a basic multirow query of the customers table you pass a SELECT statement to the execute(...) method of the cursor object. After this you can iterate over the results of the query by calling the fetchall() method of the same cursor object."
      ]
    },
    {
      "cell_type": "code",
      "execution_count": null,
      "metadata": {
        "id": "0qK1soZLJx8i",
        "colab": {
          "base_uri": "https://localhost:8080/"
        },
        "outputId": "e2deeac2-696b-49e9-bf81-a15798f6fb78"
      },
      "outputs": [
        {
          "output_type": "stream",
          "name": "stdout",
          "text": [
            "(1, 'Alan', 'Turing')\n",
            "(2, 'Donald', 'Knuth')\n",
            "(3, 'Edgar', 'Codd')\n",
            "(4, 'Martin', 'Forest')\n"
          ]
        }
      ],
      "source": [
        "cur.execute(\"SELECT * FROM customers\")\n",
        "results = cur.fetchall()\n",
        "for row in results:\n",
        "    print(row)"
      ]
    },
    {
      "cell_type": "markdown",
      "metadata": {
        "id": "xLgjfRcWJx8i"
      },
      "source": [
        "Lets say you would like to instead just retrieve one record from the database. You can do this by writing a more specific query, say for Donald Knuth's id of 2, and following that up by calling fetchone() method of the cursor object."
      ]
    },
    {
      "cell_type": "code",
      "execution_count": null,
      "metadata": {
        "id": "ak3Np_eWJx8i",
        "colab": {
          "base_uri": "https://localhost:8080/"
        },
        "outputId": "9f1fd43e-9d86-4e7b-8794-2b198631081f"
      },
      "outputs": [
        {
          "output_type": "stream",
          "name": "stdout",
          "text": [
            "(2, 'Donald', 'Knuth')\n"
          ]
        }
      ],
      "source": [
        "cur.execute(\"SELECT id, first_name, last_name FROM customers WHERE id = 2\")\n",
        "result = cur.fetchone()\n",
        "print(result)"
      ]
    },
    {
      "cell_type": "code",
      "source": [
        "cur.execute(\"SELECT*FROM orders\")\n",
        "result1 = cur.fetchall()\n",
        "print(result1)"
      ],
      "metadata": {
        "colab": {
          "base_uri": "https://localhost:8080/"
        },
        "id": "retgUOiTfBsN",
        "outputId": "aa4ca5c0-2867-4ffa-b537-8b7419e17eeb"
      },
      "execution_count": null,
      "outputs": [
        {
          "output_type": "stream",
          "name": "stdout",
          "text": [
            "[(1, '1944-02-22', 1)]\n"
          ]
        }
      ]
    },
    {
      "cell_type": "markdown",
      "metadata": {
        "id": "ixKPx6KcJx8i"
      },
      "source": [
        "See how the individual row of each result is in the form of a tuple? Well while tuples are a very useful Pythonic data structure for some programming use cases many people find them a bit hindering when it comes to the task of data retrieval. It just so happens that there is a way to represent the data in a way that is perhaps more flexible to some. All you need to do is set the row_factory method of the connection object to something more suitable such as sqlite3.Row. This will give you the ability to access the individual items of a row by position or keyword value."
      ]
    },
    {
      "cell_type": "code",
      "execution_count": null,
      "metadata": {
        "id": "7WE5hKQCJx8i",
        "colab": {
          "base_uri": "https://localhost:8080/"
        },
        "outputId": "7d1bbf41-5c4b-47eb-9b12-11259aa9eb4d"
      },
      "outputs": [
        {
          "output_type": "stream",
          "name": "stdout",
          "text": [
            "Customer: Alan Turing's id is 1\n"
          ]
        }
      ],
      "source": [
        "con.row_factory = sqlite3.Row\n",
        "cur = con.cursor()\n",
        "cur.execute(\"SELECT id, first_name, last_name FROM customers WHERE id = 1\")\n",
        "result = cur.fetchone()\n",
        "id, first_name, last_name = result['id'], result['first_name'], result['last_name']\n",
        "print(f\"Customer: {first_name} {last_name}'s id is {id}\")"
      ]
    },
    {
      "cell_type": "markdown",
      "metadata": {
        "id": "Wlt1qqEnJx8m"
      },
      "source": [
        "<b style=\"color:red;\">Supplementary Activity:</b>\n",
        "1. Create a database and call it user.db\n",
        "2. Create a table named \"users\" and insert the following: (id int, name TEXT, email TEXT)\n",
        "3. Insert the following data: <br>\n",
        "(1, 'Jonathan','jvtaylar@gmail.com'),<br>\n",
        "(2, 'John','jonathan@gmail.com'),<br>\n",
        "(3,'cpeEncoders','encoders@gmail.com')<br>\n",
        "4. Select all data from users.\n",
        "5. Select id = 3 from users.\n",
        "6. Update user id = 3 name and set it to \"James.\"\n",
        "7. Insert the following data: (4, 'Cynthia','cynthia@gmail.com')\n",
        "8. Delete id = 4 from users.\n",
        "9. Display all contents in a formatted way."
      ]
    },
    {
      "cell_type": "code",
      "source": [
        "#1 Create a database and call it user.db\n",
        "import os\n",
        "import sqlite3 as sql\n",
        "\n",
        "DEFAULT_PATH = os.path.join('user.db')\n",
        "conn = sql.connect('user.db')\n",
        "curr = conn.cursor()"
      ],
      "metadata": {
        "id": "1Z1AlkNLnWa6"
      },
      "execution_count": null,
      "outputs": []
    },
    {
      "cell_type": "code",
      "source": [
        "#2 Create a table named \"users\" and insert the following: (id int, name TEXT, email TEXT)\n",
        "curr.execute(\"\"\"CREATE TABLE users(id integer PRIMARY KEY, name TEXT, email TEXT)\"\"\")"
      ],
      "metadata": {
        "colab": {
          "base_uri": "https://localhost:8080/"
        },
        "id": "ElIe_TpBujfS",
        "outputId": "1da1d6a8-95f4-4f52-a00b-21ea68435983"
      },
      "execution_count": null,
      "outputs": [
        {
          "output_type": "execute_result",
          "data": {
            "text/plain": [
              "<sqlite3.Cursor at 0x787dacf8e240>"
            ]
          },
          "metadata": {},
          "execution_count": 170
        }
      ]
    },
    {
      "cell_type": "code",
      "source": [
        "#3 Insert the following data:\n",
        "\n",
        "def userTable(id, name, email):\n",
        "  user_sql = \"INSERT INTO users (id, name, email) VALUES (?, ?, ?)\"\n",
        "  curr.execute(user_sql,(id, name, email,))\n",
        "\n",
        "userTable(1, 'Jonathan','jvtaylar@gmail.com')\n",
        "userTable(2, 'John','jonathan@gmail.com')\n",
        "userTable(3,'cpeEncoders','encoders@gmail.com')\n"
      ],
      "metadata": {
        "id": "wFQI6p32u3tI"
      },
      "execution_count": null,
      "outputs": []
    },
    {
      "cell_type": "code",
      "source": [
        "#4 Select all data from users.\n",
        "curr.execute(\"SELECT * FROM users\")\n",
        "all_users = curr.fetchall()\n",
        "for row in all_users:\n",
        "  print(row)"
      ],
      "metadata": {
        "colab": {
          "base_uri": "https://localhost:8080/"
        },
        "id": "rkAQaI80vxvg",
        "outputId": "d9395ff2-bae3-4f5a-fb9f-fef21b5a505a"
      },
      "execution_count": null,
      "outputs": [
        {
          "output_type": "stream",
          "name": "stdout",
          "text": [
            "(1, 'Jonathan', 'jvtaylar@gmail.com')\n",
            "(2, 'John', 'jonathan@gmail.com')\n",
            "(3, 'cpeEncoders', 'encoders@gmail.com')\n"
          ]
        }
      ]
    },
    {
      "cell_type": "code",
      "source": [
        "#5 Select id = 3 from users.\n",
        "curr.execute(\"SELECT * FROM users WHERE id = 3\")\n",
        "print(curr.fetchone())"
      ],
      "metadata": {
        "colab": {
          "base_uri": "https://localhost:8080/"
        },
        "id": "oeaH2eXuwtwr",
        "outputId": "43e0ca06-39a1-4570-b58d-07f0e629a711"
      },
      "execution_count": null,
      "outputs": [
        {
          "output_type": "stream",
          "name": "stdout",
          "text": [
            "(3, 'cpeEncoders', 'encoders@gmail.com')\n"
          ]
        }
      ]
    },
    {
      "cell_type": "code",
      "source": [
        "#6 Update user id = 3 name and set it to \"James.\"\n",
        "curr.execute(\"UPDATE users SET name = 'James' WHERE id = 3\")\n",
        "curr.execute(\"SELECT * FROM users WHERE id = 3\")\n",
        "print(curr.fetchone())"
      ],
      "metadata": {
        "colab": {
          "base_uri": "https://localhost:8080/"
        },
        "id": "qeGyrPfvxVjH",
        "outputId": "0f2e9475-7423-4f06-a8b6-be58242451d9"
      },
      "execution_count": null,
      "outputs": [
        {
          "output_type": "stream",
          "name": "stdout",
          "text": [
            "(3, 'James', 'encoders@gmail.com')\n"
          ]
        }
      ]
    },
    {
      "cell_type": "code",
      "source": [
        "#7 Insert the following data: (4, 'Cynthia','cynthia@gmail.com')\n",
        "userTable(4, 'Cynthia','cynthia@gmail.com')\n",
        "curr.execute(\"SELECT * FROM users\")\n",
        "all_users = curr.fetchall()\n",
        "for row in all_users:\n",
        "  print(row)"
      ],
      "metadata": {
        "colab": {
          "base_uri": "https://localhost:8080/"
        },
        "id": "4xTozovOxYCY",
        "outputId": "52e89d61-4327-4c43-912c-3ec823c51f02"
      },
      "execution_count": null,
      "outputs": [
        {
          "output_type": "stream",
          "name": "stdout",
          "text": [
            "(1, 'Jonathan', 'jvtaylar@gmail.com')\n",
            "(2, 'John', 'jonathan@gmail.com')\n",
            "(3, 'James', 'encoders@gmail.com')\n",
            "(4, 'Cynthia', 'cynthia@gmail.com')\n"
          ]
        }
      ]
    },
    {
      "cell_type": "code",
      "source": [
        "#8 Delete id = 4 from users.\n",
        "curr.execute(\"DELETE FROM users WHERE id = 4\")\n",
        "curr.execute(\"SELECT * FROM users\")\n",
        "all_users = curr.fetchall()\n",
        "for row in all_users:\n",
        "  print(row)"
      ],
      "metadata": {
        "colab": {
          "base_uri": "https://localhost:8080/"
        },
        "id": "qtyrwuDZxV-u",
        "outputId": "b49c3648-aa15-4865-aea4-cce30d1e2fac"
      },
      "execution_count": null,
      "outputs": [
        {
          "output_type": "stream",
          "name": "stdout",
          "text": [
            "(1, 'Jonathan', 'jvtaylar@gmail.com')\n",
            "(2, 'John', 'jonathan@gmail.com')\n",
            "(3, 'James', 'encoders@gmail.com')\n"
          ]
        }
      ]
    },
    {
      "cell_type": "code",
      "source": [
        "#9 Display all contents in a formatted way\n",
        "curr.execute(\"SELECT * FROM users\")\n",
        "formatted_result = [f\"{id:<5}{name:<15}{email:>5}\" for id, name, email in curr.fetchall()]\n",
        "id, name, email = \"ID\", \"Name\", \"Email\"\n",
        "print('\\n'.join([f\"{id:<5}{name:<15}{email:>5}\"] + formatted_result))"
      ],
      "metadata": {
        "colab": {
          "base_uri": "https://localhost:8080/"
        },
        "id": "6hfoSc5ExWSA",
        "outputId": "159b4184-120f-4435-f903-2e42a783b07a"
      },
      "execution_count": null,
      "outputs": [
        {
          "output_type": "stream",
          "name": "stdout",
          "text": [
            "ID   Name           Email\n",
            "1    Jonathan       jvtaylar@gmail.com\n",
            "2    John           jonathan@gmail.com\n",
            "3    James          encoders@gmail.com\n"
          ]
        }
      ]
    },
    {
      "cell_type": "markdown",
      "metadata": {
        "id": "hRPGcAHhJx8m"
      },
      "source": [
        "<b style=\"color:red;\">Conclusions/Observations:</b>\n"
      ]
    },
    {
      "cell_type": "code",
      "execution_count": null,
      "metadata": {
        "id": "zkPBmZFsJx8n"
      },
      "outputs": [],
      "source": []
    }
  ],
  "metadata": {
    "kernelspec": {
      "display_name": "Python 3",
      "language": "python",
      "name": "python3"
    },
    "language_info": {
      "codemirror_mode": {
        "name": "ipython",
        "version": 3
      },
      "file_extension": ".py",
      "mimetype": "text/x-python",
      "name": "python",
      "nbconvert_exporter": "python",
      "pygments_lexer": "ipython3",
      "version": "3.7.7"
    },
    "colab": {
      "provenance": []
    }
  },
  "nbformat": 4,
  "nbformat_minor": 0
}