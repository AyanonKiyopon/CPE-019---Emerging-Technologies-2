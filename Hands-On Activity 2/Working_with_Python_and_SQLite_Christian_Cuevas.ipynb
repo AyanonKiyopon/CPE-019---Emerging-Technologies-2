{
  "cells": [
    {
      "cell_type": "markdown",
      "metadata": {
        "id": "40KWhwqrZkXF"
      },
      "source": [
        "Name: Christian Jay L. Cuevas <br>\n",
        "Course and Section: CPE019 - CPE32S3<br>\n",
        "Date of Submission: 1/31/2024<br>\n",
        "Instructor: Engr. Roman Richard<br>\n",
        "\n",
        "### Working with Python and SQLite\n",
        "\n",
        "Objectives:<br>\n",
        "Use the sqlite3 module to interact with a SQL database.<br>\n",
        "Access data stored in SQLite using Python.<br>\n",
        "Describe the difference in interacting with data stored as a CSV file versus in SQLite.<br>\n",
        "Describe the benefits of accessing data using a database compared to a CSV file.<br>\n",
        "\n",
        "\n",
        "#### Required Resources\n",
        "1 PC with Internet access<br>\n",
        "Jupyter notebook<br>\n",
        "\n",
        "#### SQL refresh\n",
        "Very brief introduction to relational databases (temporary): http://searchsqlserver.techtarget.com/definition/relational-database</li>\n",
        "More videos on relational databases: https://www.youtube.com/watch?v=jyju2P-7hPA&list=PLAwxTw4SYaPm4R6j_wzVOCV9fJaiQDYx4</li>\n",
        "Introduction to SQL: http://www.w3schools.com/sql/sql_intro.asp</li>\n",
        "Working with SQLite via the command-line: https://www.sqlite.org/cli.html"
      ]
    },
    {
      "cell_type": "markdown",
      "metadata": {
        "id": "UqK4y2THZkXH"
      },
      "source": [
        "#### Part 1: Python and SQL\n",
        "When you open a CSV in python, and assign it to a variable name, you are using your computers memory to save that variable. Accessing data from a database like SQL is not only more efficient, but also it allows you to subset and import only the parts of the data that you need.\n",
        "\n",
        "<b>The sqlite3 module</b><br>\n",
        "The sqlite3 module provides a straightforward interface for interacting with SQLite databases. A connection object is created using sqlite3.connect(); the connection must be closed at the end of the session with the .close() command. While the connection is open, any interactions with the database require you to make a cursor object with the .cursor() command. The cursor is then ready to perform all kinds of operations with .execute().\n",
        "\n",
        "<b>Step 1: Create a SQL connection to our SQLite database </b><br>\n",
        "Creating a new SQLite database is as simple as creating a connection using the sqlite3 module in the Python standard library. To establish a connection all you need to do is pass a file path to the connect(...) method in the sqlite3 module, and if the database represented by the file does not exists one will be created at that path."
      ]
    },
    {
      "cell_type": "code",
      "execution_count": null,
      "metadata": {
        "id": "UXAHs7M9ZkXI"
      },
      "outputs": [],
      "source": [
        "import sqlite3\n",
        "con = sqlite3.connect('sqlite.db')"
      ]
    },
    {
      "cell_type": "markdown",
      "metadata": {
        "id": "jjkaHDPNZkXJ"
      },
      "source": [
        "You will find that in everyday database programming you will be constantly creating connections to your database, so it is a good idea to wrap this simple connection statement into a reusable generalized function."
      ]
    },
    {
      "cell_type": "code",
      "execution_count": null,
      "metadata": {
        "id": "9kGzPDA9ZkXJ"
      },
      "outputs": [],
      "source": [
        "import os\n",
        "import sqlite3\n",
        "\n",
        "# create a default path to connect to and create (if necessary) a database\n",
        "# called 'database.sqlite3' in the same directory as this script\n",
        "DEFAULT_PATH = os.path.join('sqlite.db')\n",
        "\n",
        "def db_connect(db_path=DEFAULT_PATH):\n",
        "    con = sqlite3.connect(db_path)\n",
        "    return con"
      ]
    },
    {
      "cell_type": "markdown",
      "metadata": {
        "id": "NCauhXf_ZkXJ"
      },
      "source": [
        "<b>Step 2: Create a table on the SQLite database </b><br>\n",
        "The code below creates a table on the sqlite.db database. The cursor() command is needed to make a cursor object to interact with the created database. The cursor is then ready to perform all kinds of operations with .execute(). The execute() command performs a query that creates a table using the parameters as shown. The commit() command\n",
        "\n",
        "In order to create database tables you need to have an idea of the structure of the data you are interested in storing. There are many design considerations that go into defining the tables of a relational database. To aid in the discussion of SQLite database programming with Python, we will be working off the premise that a database needs to be created for a fictitious book store that has the below data already collected on book sales.\n",
        "\n",
        "<table style=\"width:75%\">\n",
        "  <tr>\n",
        "    <th>Customer</th>\n",
        "    <th>Date</th>\n",
        "    <th>Product</th>\n",
        "      <th>Price</th>\n",
        "  </tr>\n",
        "  <tr>\n",
        "    <td>Allan Turing</td>\n",
        "    <td>2/22/1944</td>\n",
        "    <td>Introduction to Combinatorics</td>\n",
        "    <td>7.99</td>\n",
        "  </tr>\n",
        "  <tr>\n",
        "    <td>Donald Knuth</td>\n",
        "    <td>7/3/1967</td>\n",
        "    <td>A Guide to Writing Short Stories</td>\n",
        "    <td>17.99</td>\n",
        "  </tr>\n",
        "    <td>Donald Knuth</td>\n",
        "    <td>7/3/1967</td>\n",
        "    <td>Data Structures and Algorithms</td>\n",
        "    <td>11.99</td>\n",
        "   <tr>\n",
        "    <td>Edgar Codd</td>\n",
        "    <td>1/12/1969</td>\n",
        "    <td>Advanced Set Theory</td>\n",
        "    <td>16.99</td>\n",
        "  </tr>\n",
        "</table>\n",
        "Upon inspecting this data, it is evident that it contains information about customers, products, and orders. A common pattern in database design for transactional systems of this type are to break the orders into two additional tables, orders and line items (sometimes referred to as order details) to achieve greater normalization.\n",
        "\n",
        "Enter the SQL for creating the customers and products tables follows:"
      ]
    },
    {
      "cell_type": "code",
      "execution_count": null,
      "metadata": {
        "colab": {
          "base_uri": "https://localhost:8080/"
        },
        "id": "bumuq38PZkXJ",
        "outputId": "9f0f4a1b-0cb9-4ebc-9fa5-785b79e86a18"
      },
      "outputs": [
        {
          "output_type": "execute_result",
          "data": {
            "text/plain": [
              "<sqlite3.Cursor at 0x7c62c0ab94c0>"
            ]
          },
          "metadata": {},
          "execution_count": 3
        }
      ],
      "source": [
        "con = db_connect() # connect to the database\n",
        "cur = con.cursor() # instantiate a cursor object\n",
        "customers_sql = \"\"\"CREATE TABLE customers(id integer PRIMARY KEY, first_name text NOT NULL, last_name text NOT NULL)\"\"\"\n",
        "cur.execute(customers_sql)\n",
        "products_sql = \"\"\"CREATE TABLE products (id integer PRIMARY KEY,name text NOT NULL,price real NOT NULL)\"\"\"\n",
        "cur.execute(products_sql)"
      ]
    },
    {
      "cell_type": "markdown",
      "metadata": {
        "id": "c7hvJPhYZkXK"
      },
      "source": [
        "The above code creates a connection object then uses it to instantiate a cursor object. The cursor object is used to execute SQL statements on the SQLite database.\n",
        "\n",
        "With the cursor created, we write the SQL to create the customers table, giving it a primary key along with a first and last name text field and assign it to a variable called customers_sql. Then we call the execute(...) method of the cursor object passing it the customers_sql variable. Similar steps were don for the products table.\n",
        "\n",
        "You can query the sqlite_master table, a built-in SQLite metadata table, to verify that the above commands were successful.\n",
        "\n",
        "To see all the tables in the currently connected database query the name column of the sqlite_master table where the type is equal to \"table\"."
      ]
    },
    {
      "cell_type": "code",
      "execution_count": null,
      "metadata": {
        "colab": {
          "base_uri": "https://localhost:8080/"
        },
        "id": "jz-MK_GjZkXK",
        "outputId": "45b0ec14-d5c2-4c78-83fc-0959d11e9153"
      },
      "outputs": [
        {
          "output_type": "stream",
          "name": "stdout",
          "text": [
            "[('customers',), ('products',)]\n"
          ]
        }
      ],
      "source": [
        "cur.execute(\"SELECT name FROM sqlite_master WHERE type='table'\")\n",
        "\n",
        "print(cur.fetchall())\n"
      ]
    },
    {
      "cell_type": "markdown",
      "metadata": {
        "id": "8qJfcokdZkXK"
      },
      "source": [
        "To get a look at the schema of the tables query the sql column of the same table where the type is still \"table\" and the name is equal to \"customers\" and/or \"products\"."
      ]
    },
    {
      "cell_type": "code",
      "execution_count": null,
      "metadata": {
        "colab": {
          "base_uri": "https://localhost:8080/"
        },
        "id": "0ggkm8-NZkXK",
        "outputId": "25788687-5f3a-4002-8128-93f885388a26"
      },
      "outputs": [
        {
          "output_type": "stream",
          "name": "stdout",
          "text": [
            "CREATE TABLE customers(id integer PRIMARY KEY, first_name text NOT NULL, last_name text NOT NULL)\n"
          ]
        }
      ],
      "source": [
        "cur.execute(\"\"\"SELECT sql FROM sqlite_master WHERE type='table'AND name='customers'\"\"\")\n",
        "print(cur.fetchone()[0])"
      ]
    },
    {
      "cell_type": "markdown",
      "metadata": {
        "id": "cqCHdlEYZkXL"
      },
      "source": [
        "The next table to define will be the orders table which associates customers to orders via a foreign key and the date of their purchase. Since SQLite does not support an actual date/time data type (or data class to be consistent with the SQLite vernacular) all dates will be represented as text values."
      ]
    },
    {
      "cell_type": "code",
      "execution_count": null,
      "metadata": {
        "colab": {
          "base_uri": "https://localhost:8080/"
        },
        "id": "1k3LVn4YZkXL",
        "outputId": "c6ad68aa-1c28-457e-a3b3-e964fdd30d96"
      },
      "outputs": [
        {
          "output_type": "execute_result",
          "data": {
            "text/plain": [
              "<sqlite3.Cursor at 0x7c62c0ab94c0>"
            ]
          },
          "metadata": {},
          "execution_count": 6
        }
      ],
      "source": [
        "orders_sql = \"\"\"\n",
        "... CREATE TABLE orders (\n",
        "...     id integer PRIMARY KEY,\n",
        "...     date text NOT NULL,\n",
        "...     customer_id integer,\n",
        "...     FOREIGN KEY (customer_id) REFERENCES customers (id))\"\"\"\n",
        "cur.execute(orders_sql)"
      ]
    },
    {
      "cell_type": "markdown",
      "metadata": {
        "id": "vRW7ZiaYZkXL"
      },
      "source": [
        "The final table to define will be the line items table which gives a detailed accounting of the products in each order."
      ]
    },
    {
      "cell_type": "code",
      "execution_count": null,
      "metadata": {
        "colab": {
          "base_uri": "https://localhost:8080/"
        },
        "id": "6KyHKK6bZkXL",
        "outputId": "6710e583-0593-4a57-9ff5-3a89e2a64339"
      },
      "outputs": [
        {
          "output_type": "execute_result",
          "data": {
            "text/plain": [
              "<sqlite3.Cursor at 0x7c62c0ab94c0>"
            ]
          },
          "metadata": {},
          "execution_count": 7
        }
      ],
      "source": [
        "lineitems_sql = \"\"\"\n",
        "... CREATE TABLE lineitems (\n",
        "...     id integer PRIMARY KEY,\n",
        "...     quantity integer NOT NULL,\n",
        "...     total real NOT NULL,\n",
        "...     product_id integer,\n",
        "...     order_id integer,\n",
        "...     FOREIGN KEY (product_id) REFERENCES products (id),\n",
        "...     FOREIGN KEY (order_id) REFERENCES orders (id))\"\"\"\n",
        "cur.execute(lineitems_sql)"
      ]
    },
    {
      "cell_type": "markdown",
      "metadata": {
        "id": "pUq7TZKlZkXL"
      },
      "source": [
        "<b>Step 3: Loading the Data</b><br>\n",
        "In this section we will use INSERT to our sample data into the tables just created. A natural starting place would be to populate the products table first because without products we cannot have a sale and thus would not have the foreign keys to relate to the line items and orders. Looking at the sample data, we see that there are four products:\n",
        "\n",
        "1. Introduction to Combinatorics - 7.99\n",
        "2. A Guide to Writing Short Stories -17.99\n",
        "3. Data Structures and Algorithms - 11.99\n",
        "4. Advanced Set Theory - 16.99\n",
        "\n",
        "The workflow for executing INSERT statements is simply:\n",
        "\n",
        "1. Connect to the database<br>\n",
        "2. Create a cursor object<br>\n",
        "3. Write a parameterized insert SQL statement and store as a variable<br>\n",
        "4. Call the execute method on the cursor object passing it the sql variable and the values, as a tuple, to be inserted into the table<br><br>\n",
        "Given this general outline let us write some more code."
      ]
    },
    {
      "cell_type": "code",
      "execution_count": null,
      "metadata": {
        "id": "PA1Vbwj6ZkXL"
      },
      "outputs": [],
      "source": [
        "con = db_connect()\n",
        "cur = con.cursor()\n",
        "product_sql = \"INSERT INTO products (name, price) VALUES (?, ?)\"\n",
        "cur.execute(product_sql, ('Introduction to Combinatorics', 7.99))\n",
        "cur.execute(product_sql, ('A Guide to Writing Short Stories', 17.99))\n",
        "cur.execute(product_sql, ('Data Structures and Algorithms', 11.99))\n",
        "cur.execute(product_sql, ('Advanced Set Theory', 16.99))\n",
        "con.commit()"
      ]
    },
    {
      "cell_type": "markdown",
      "metadata": {
        "id": "IHZsoLDIZkXL"
      },
      "source": [
        "The insert statement follows the standard SQL syntax except for the ? bit. The ?'s are actually placeholders in what is known as a \"parameterized query\".\n",
        "\n",
        "Parameterized queries are an important feature of essentially all database interfaces to modern high level programming languages such as the sqlite3 module in Python. This type of query serves to improve the efficiency of queries that are repeated several times. Perhaps more important, they also sanitize inputs that take the place of the ? placeholders which are passed in during the call to the execute method of the cursor object to prevent nefarious inputs leading to SQL injection."
      ]
    },
    {
      "cell_type": "markdown",
      "metadata": {
        "id": "s8gaMuQ3ZkXL"
      },
      "source": [
        "To populate the remaining tables we are going to follow a slightly different pattern to change things up a bit. The workflow for each order, identified by a combination of customer first and last name and the purchase date, will be:\n",
        "\n",
        "1. Insert the new customer into the customers table and retrieve its primary key id\n",
        "2. Create an order entry based off the customer id and the purchase date then retrieve its primary key id\n",
        "3. For each product in the order determine its primary key id and create a line item entry associating the order and the product\n",
        "4. To make things simpler on ourselves let us do a quick look up of all our products. For now do not worry too much about the mechanics of the SELECT SQL statement as we will devote a section to it shortly."
      ]
    },
    {
      "cell_type": "code",
      "execution_count": null,
      "metadata": {
        "colab": {
          "base_uri": "https://localhost:8080/"
        },
        "id": "ggOji0KWZkXM",
        "outputId": "05a29d1c-1acc-4bf3-a5e5-b2beb99cd844"
      },
      "outputs": [
        {
          "output_type": "stream",
          "name": "stdout",
          "text": [
            "Id   Product                            Price\n",
            "1    Introduction to Combinatorics       7.99\n",
            "2    A Guide to Writing Short Stories   17.99\n",
            "3    Data Structures and Algorithms     11.99\n",
            "4    Advanced Set Theory                16.99\n"
          ]
        }
      ],
      "source": [
        "cur.execute(\"SELECT id, name, price FROM products\")\n",
        "formatted_result = [f\"{id:<5}{name:<35}{price:>5}\" for id, name, price in cur.fetchall()]\n",
        "id, product, price = \"Id\", \"Product\", \"Price\"\n",
        "print('\\n'.join([f\"{id:<5}{product:<35}{price:>5}\"] + formatted_result))"
      ]
    },
    {
      "cell_type": "markdown",
      "metadata": {
        "id": "dAYOXMI7ZkXM"
      },
      "source": [
        "The first order was placed on Feb 22, 1944 by Alan Turing who purchased Introduction to Combinatorics for $7.99.\n",
        "\n",
        "Start by making a new customer record for Mr. Turing then determine his primary key id by accessing the lastrowid field of the cursor object."
      ]
    },
    {
      "cell_type": "code",
      "execution_count": null,
      "metadata": {
        "colab": {
          "base_uri": "https://localhost:8080/"
        },
        "id": "lHsmeSNmZkXM",
        "outputId": "44fa92b3-047a-4525-aef4-596605ed6c25"
      },
      "outputs": [
        {
          "output_type": "stream",
          "name": "stdout",
          "text": [
            "1\n"
          ]
        }
      ],
      "source": [
        "customer_sql = \"INSERT INTO customers (first_name, last_name) VALUES (?, ?)\"\n",
        "cur.execute(customer_sql, ('Alan', 'Turing'))\n",
        "customer_id = cur.lastrowid\n",
        "print(customer_id)\n",
        "con.commit()"
      ]
    },
    {
      "cell_type": "markdown",
      "metadata": {
        "id": "g4M0CMbaZkXM"
      },
      "source": [
        "<b style=\"color:red;\">Task 1: Insert 3 more records on the customers table</b>\n",
        "<br>\n",
        "Insert the following records:\n",
        "1. Donald Knuth\n",
        "2. Edgar Codd\n",
        "3. Martin Forest\n"
      ]
    },
    {
      "cell_type": "code",
      "execution_count": null,
      "metadata": {
        "colab": {
          "base_uri": "https://localhost:8080/"
        },
        "id": "jpt4UnHuZkXM",
        "outputId": "488b2d86-150f-47f0-a008-e309188b5145"
      },
      "outputs": [
        {
          "output_type": "stream",
          "name": "stdout",
          "text": [
            "2\n",
            "3\n",
            "4\n",
            "\n",
            "(1, 'Alan', 'Turing')\n",
            "(2, 'Donald', 'Knuth')\n",
            "(3, 'Edgar', 'Codd')\n",
            "(4, 'Martin', 'Forest')\n"
          ]
        }
      ],
      "source": [
        "#IMPLEMENTATION 1\n",
        "cur.execute(customer_sql,('Donald','Knuth'))\n",
        "customer_id = cur.lastrowid\n",
        "print(customer_id)\n",
        "cur.execute(customer_sql,('Edgar', 'Codd'))\n",
        "customer_id = cur.lastrowid\n",
        "print(customer_id)\n",
        "cur.execute(customer_sql,('Martin', 'Forest'))\n",
        "customer_id = cur.lastrowid\n",
        "print(customer_id)\n",
        "print(\"\")\n",
        "cur.execute('SELECT * FROM customers')\n",
        "table1 = cur.fetchall()\n",
        "for i in table1:\n",
        "  print(i)\n",
        "\n",
        "con.rollback()"
      ]
    },
    {
      "cell_type": "code",
      "source": [
        "#IMPLEMENTATION 2\n",
        "def customerTable(first_name, last_name):\n",
        "  customer_sql = \"INSERT INTO customers (first_name, last_name) VALUES (?, ?)\"\n",
        "  cur.execute(customer_sql,(first_name,last_name))\n",
        "  customer_id = cur.lastrowid\n",
        "  print(customer_id)\n",
        "\n",
        "customerTable('Donald', 'Knuth')\n",
        "customerTable('Edgar', 'Codd')\n",
        "customerTable('Martin', 'Forest')\n",
        "\n",
        "print(\"\")\n",
        "cur.execute('SELECT * FROM customers')\n",
        "table1 = cur.fetchall()\n",
        "for i in table1:\n",
        "  print(i)\n",
        "\n",
        "con.commit()"
      ],
      "metadata": {
        "colab": {
          "base_uri": "https://localhost:8080/"
        },
        "id": "wNbsi9kzbE5J",
        "outputId": "a7e2fc65-ab23-4c01-a440-8ca64757c87a"
      },
      "execution_count": null,
      "outputs": [
        {
          "output_type": "stream",
          "name": "stdout",
          "text": [
            "2\n",
            "3\n",
            "4\n",
            "\n",
            "(1, 'Alan', 'Turing')\n",
            "(2, 'Donald', 'Knuth')\n",
            "(3, 'Edgar', 'Codd')\n",
            "(4, 'Martin', 'Forest')\n"
          ]
        }
      ]
    },
    {
      "cell_type": "code",
      "source": [
        "#Formatted Output\n",
        "cur.execute(\"SELECT id, first_name, last_name FROM customers\")\n",
        "formatted_result = [f\"{id:<5}{first_name:<15}{last_name:>5}\" for id, first_name, last_name in cur.fetchall()]\n",
        "id, first_name, last_name = \"Id\", \"First name\", \"Last name\"\n",
        "print('\\n'.join([f\"{id:<5}{first_name:<15}{last_name:>5}\"] + formatted_result))"
      ],
      "metadata": {
        "colab": {
          "base_uri": "https://localhost:8080/"
        },
        "id": "jOJ784KxxVq4",
        "outputId": "587b0107-d16f-4297-d109-b389a95d9231"
      },
      "execution_count": null,
      "outputs": [
        {
          "output_type": "stream",
          "name": "stdout",
          "text": [
            "Id   First name     Last name\n",
            "1    Alan           Turing\n",
            "2    Donald         Knuth\n",
            "3    Edgar           Codd\n",
            "4    Martin         Forest\n"
          ]
        }
      ]
    },
    {
      "cell_type": "markdown",
      "metadata": {
        "id": "NpF62EgNZkXM"
      },
      "source": [
        "We can now create an order entry, collect the new order id value and associate it to a line item entry along with the product Mr. Turing ordered."
      ]
    },
    {
      "cell_type": "code",
      "execution_count": null,
      "metadata": {
        "colab": {
          "base_uri": "https://localhost:8080/"
        },
        "id": "xXAgNCgrZkXM",
        "outputId": "93c33994-7b6d-4bed-b3e1-fd6fac97e420"
      },
      "outputs": [
        {
          "output_type": "stream",
          "name": "stdout",
          "text": [
            "1\n"
          ]
        }
      ],
      "source": [
        "order_sql = \"INSERT INTO orders (date, customer_id) VALUES (?, ?)\"\n",
        "date = \"1944-02-22\" # ISO formatted date\n",
        "cur.execute(order_sql, (date, customer_id))\n",
        "order_id = cur.lastrowid\n",
        "print(order_id)\n",
        "con.commit()"
      ]
    },
    {
      "cell_type": "markdown",
      "metadata": {
        "id": "HmcxvgCIZkXM"
      },
      "source": [
        "<b style=\"color:red;\">Task 2: Insert 3 more records on the orders table</b>\n",
        "<br>\n",
        "Insert the following records:\n",
        "1. for Donald Knuth, date is 7/3/1967\n",
        "2. Edgar Codd, date is 1/12/1969\n",
        "3. Martin Forest, date is 1/15/2021"
      ]
    },
    {
      "cell_type": "code",
      "execution_count": null,
      "metadata": {
        "colab": {
          "base_uri": "https://localhost:8080/"
        },
        "id": "vpHURn4MZkXN",
        "outputId": "eeee5f12-4812-4d79-ac4a-dbddf07fb262"
      },
      "outputs": [
        {
          "output_type": "stream",
          "name": "stdout",
          "text": [
            "(1, '1944-02-22', 1)\n",
            "(2, '1967-03-07', 2)\n",
            "(3, '1969-01-12', 3)\n",
            "(4, '2021-01-15', 4)\n"
          ]
        }
      ],
      "source": [
        "#IMPLEMENTATION 1\n",
        "date1 = \"1967-03-07\"\n",
        "date2 = \"1969-01-12\"\n",
        "date3 = \"2021-01-15\"\n",
        "first_name_id = \"SELECT id FROM customers WHERE first_name = ?\"\n",
        "cur.execute(first_name_id,('Donald',))\n",
        "new_customer_id = cur.fetchone()[0]\n",
        "cur.execute(order_sql, (date1, new_customer_id))\n",
        "\n",
        "cur.execute(first_name_id,('Edgar',))\n",
        "new_customer_id = cur.fetchone()[0]\n",
        "cur.execute(order_sql, (date2, new_customer_id))\n",
        "\n",
        "cur.execute(first_name_id,('Martin',))\n",
        "new_customer_id = cur.fetchone()[0]\n",
        "cur.execute(order_sql, (date3, new_customer_id))\n",
        "\n",
        "cur.execute(\"SELECT * FROM orders\")\n",
        "table2 = cur.fetchall()\n",
        "for i in table2:\n",
        "  print(i)\n",
        "\n",
        "con.rollback()"
      ]
    },
    {
      "cell_type": "code",
      "source": [
        "#IMPLEMENTATION 2\n",
        "def ordersTable(date, first_name):\n",
        "  first_name_id = \"SELECT id FROM customers WHERE first_name = ?\"\n",
        "  order_sql = \"INSERT INTO orders (date, customer_id) VALUES (?, ?)\"\n",
        "\n",
        "  cur.execute(first_name_id,(first_name,))\n",
        "  new_customer_id = cur.fetchone()[0]\n",
        "  cur.execute(order_sql,(date, new_customer_id))\n",
        "\n",
        "ordersTable(date1, 'Donald')\n",
        "ordersTable(date2, 'Edgar')\n",
        "ordersTable(date3, 'Martin')\n",
        "\n",
        "cur.execute(\"SELECT * FROM orders\")\n",
        "table2 = cur.fetchall()\n",
        "for i in table2:\n",
        "  print(i)\n",
        "\n",
        "con.commit()"
      ],
      "metadata": {
        "colab": {
          "base_uri": "https://localhost:8080/"
        },
        "id": "K9VhNqzTekKb",
        "outputId": "a6daca11-e98b-4198-d1c5-791a64be9f41"
      },
      "execution_count": null,
      "outputs": [
        {
          "output_type": "stream",
          "name": "stdout",
          "text": [
            "(1, '1944-02-22', 1)\n",
            "(2, '1967-03-07', 2)\n",
            "(3, '1969-01-12', 3)\n",
            "(4, '2021-01-15', 4)\n"
          ]
        }
      ]
    },
    {
      "cell_type": "code",
      "source": [
        "#Formatted Output\n",
        "cur.execute(\"SELECT id, date, customer_id FROM orders\")\n",
        "formatted_result = [f\"{id:<5}{date:<15}{customer_id:>5}\" for id, date, customer_id in cur.fetchall()]\n",
        "id, date, customer_id = \"Id\", \"Date\", \"Customer ID\"\n",
        "print('\\n'.join([f\"{id:<5}{date:<15}{customer_id:>5}\"] + formatted_result))"
      ],
      "metadata": {
        "colab": {
          "base_uri": "https://localhost:8080/"
        },
        "id": "dfi9llUwxQ2z",
        "outputId": "9bf8671d-7391-4cb4-c43c-785d051a0297"
      },
      "execution_count": null,
      "outputs": [
        {
          "output_type": "stream",
          "name": "stdout",
          "text": [
            "Id   Date           Customer ID\n",
            "1    1944-02-22         1\n",
            "2    1967-03-07         2\n",
            "3    1969-01-12         3\n",
            "4    2021-01-15         4\n"
          ]
        }
      ]
    },
    {
      "cell_type": "markdown",
      "metadata": {
        "id": "Lp4ioyDhZkXN"
      },
      "source": [
        "Each order can be inserted into the lineitems as shown below."
      ]
    },
    {
      "cell_type": "code",
      "execution_count": null,
      "metadata": {
        "id": "L3gRMpvSZkXN"
      },
      "outputs": [],
      "source": [
        "li_sql = \"\"\"INSERT INTO lineitems\n",
        "...       (order_id, product_id, quantity, total)\n",
        "...     VALUES (?, ?, ?, ?)\"\"\"\n",
        "product_id = 1\n",
        "cur.execute(li_sql, (order_id, 1, 1, 7.99))\n",
        "con.commit()"
      ]
    },
    {
      "cell_type": "markdown",
      "metadata": {
        "id": "HP9xfv94ZkXN"
      },
      "source": [
        "The remaining records are loaded exactly the same except for the order made to Donald Knuth, which will receive two line item entries."
      ]
    },
    {
      "cell_type": "markdown",
      "metadata": {
        "id": "5Q37G1vJZkXN"
      },
      "source": [
        "<b style=\"color:red;\">Task 3: Insert 3 more records on the lineitems</b>\n",
        "<br>\n",
        "Insert the following records:\n",
        "1. for Donald Knuth, insert (order_id, 2, 2, 17.99)\n",
        "2. Edgar Codd, insert (order_id, 3, 3, 11.99)\n",
        "3. Martin Forest, insert (order_id, 4, 4, 10.99)"
      ]
    },
    {
      "cell_type": "code",
      "execution_count": null,
      "metadata": {
        "colab": {
          "base_uri": "https://localhost:8080/"
        },
        "id": "QIu0DSWZZkXN",
        "outputId": "25054a14-1dc8-4044-8fef-27ad9393e5fc"
      },
      "outputs": [
        {
          "output_type": "stream",
          "name": "stdout",
          "text": [
            "2\n",
            "3\n",
            "4\n",
            "\n",
            "(1, 1, 7.99, 1, 1)\n",
            "(2, 2, 17.99, 2, 2)\n",
            "(3, 3, 11.99, 3, 3)\n",
            "(4, 4, 10.99, 4, 4)\n"
          ]
        }
      ],
      "source": [
        "#IMPLEMENTATION 1\n",
        "name_order_id = \"SELECT orders.id FROM orders INNER JOIN customers ON orders.id = customers.id WHERE customers.first_name = ?\"\n",
        "cur.execute(name_order_id,('Donald',))\n",
        "new_order_id = cur.fetchone()[0]\n",
        "print(new_order_id)\n",
        "cur.execute(li_sql, (new_order_id, 2, 2, 17.99))\n",
        "\n",
        "cur.execute(name_order_id,('Edgar',))\n",
        "new_order_id = cur.fetchone()[0]\n",
        "print(new_order_id)\n",
        "cur.execute(li_sql, (new_order_id, 3, 3, 11.99))\n",
        "\n",
        "cur.execute(name_order_id,('Martin',))\n",
        "new_order_id = cur.fetchone()[0]\n",
        "print(new_order_id)\n",
        "cur.execute(li_sql, (new_order_id, 4, 4, 10.99))\n",
        "\n",
        "print(\"\")\n",
        "\n",
        "cur.execute(\"SELECT * FROM lineitems\")\n",
        "table3 = cur.fetchall()\n",
        "for i in table3:\n",
        "  print(i)\n",
        "\n",
        "con.commit()"
      ]
    },
    {
      "cell_type": "code",
      "source": [
        "#IMPLEMENTATION 2\n",
        "def lineitemsTable(first_name, prod_id, quantity, total):\n",
        "  li_sql = \"\"\"INSERT INTO lineitems\n",
        "...       (order_id, product_id, quantity, total)\n",
        "...     VALUES (?, ?, ?, ?)\"\"\"\n",
        "  name_order_id = \"SELECT orders.id FROM orders INNER JOIN customers ON orders.id = customers.id WHERE customers.first_name = ?\"\n",
        "  cur.execute(name_order_id,(first_name,))\n",
        "  new_order_id = cur.fetchone()[0]\n",
        "  print(new_order_id)\n",
        "  cur.execute(li_sql, (new_order_id, prod_id, quantity, total,))\n",
        "\n",
        "#I used their first names to retrieve their order ID\n",
        "\n",
        "lineitemsTable('Donald', 2, 2, 17.99)\n",
        "lineitemsTable('Edgar', 3, 3, 11.99)\n",
        "lineitemsTable('Martin', 4, 4, 10.99)\n",
        "\n",
        "con.rollback()"
      ],
      "metadata": {
        "colab": {
          "base_uri": "https://localhost:8080/"
        },
        "id": "myzGyyyJleS5",
        "outputId": "7fcaab5e-1b65-4bde-a8a1-dddf8861e9e1"
      },
      "execution_count": null,
      "outputs": [
        {
          "output_type": "stream",
          "name": "stdout",
          "text": [
            "2\n",
            "3\n",
            "4\n",
            "\n",
            "(1, 1, 7.99, 1, 1)\n",
            "(2, 2, 17.99, 2, 2)\n",
            "(3, 3, 11.99, 3, 3)\n",
            "(4, 4, 10.99, 4, 4)\n"
          ]
        }
      ]
    },
    {
      "cell_type": "code",
      "source": [
        "cur.execute(\"SELECT * FROM lineitems\")\n",
        "formatted_result = [f\"{id:<5}{order_id:<15}{product_id:<15}{quantity:<15}{total:>5}\" for id, order_id, product_id, quantity, total in cur.fetchall()]\n",
        "id, order_id, product_id, quantity, total = \"ID\", \"Quantity\", \"Total\", \"Product ID\", \"Order ID\"\n",
        "print('\\n'.join([f\"{id:<5}{order_id:<15}{product_id:<15}{quantity:<15}{total:>5}\"] + formatted_result))"
      ],
      "metadata": {
        "colab": {
          "base_uri": "https://localhost:8080/"
        },
        "id": "07JqAbTXwtgo",
        "outputId": "25968a1f-7884-444d-9f52-ad4620f9c9d0"
      },
      "execution_count": null,
      "outputs": [
        {
          "output_type": "stream",
          "name": "stdout",
          "text": [
            "ID   Quantity       Total          Product ID     Order ID\n",
            "1    1              7.99           1                  1\n",
            "2    2              17.99          2                  2\n",
            "3    3              11.99          3                  3\n",
            "4    4              10.99          4                  4\n"
          ]
        }
      ]
    },
    {
      "cell_type": "markdown",
      "metadata": {
        "id": "N5Rh71WXZkXN"
      },
      "source": [
        "<b>Step 3: Querying the Database</b><br>\n",
        "\n",
        "Generally the most common action performed on a database is a retrieval of some of the data stored in it via a SELECT statement. For this section, we will be demonstrating how to use the sqlite3 interface to perform simple SELECT queries.\n",
        "\n",
        "To perform a basic multirow query of the customers table you pass a SELECT statement to the execute(...) method of the cursor object. After this you can iterate over the results of the query by calling the fetchall() method of the same cursor object."
      ]
    },
    {
      "cell_type": "code",
      "execution_count": null,
      "metadata": {
        "colab": {
          "base_uri": "https://localhost:8080/"
        },
        "id": "zn79aFgxZkXN",
        "outputId": "5dae02b1-d049-47f9-bfd5-0fb64cdaa5b6"
      },
      "outputs": [
        {
          "output_type": "stream",
          "name": "stdout",
          "text": [
            "(1, 'Alan', 'Turing')\n",
            "(2, 'Donald', 'Knuth')\n",
            "(3, 'Edgar', 'Codd')\n",
            "(4, 'Martin', 'Forest')\n"
          ]
        }
      ],
      "source": [
        "cur.execute(\"SELECT * FROM customers\")\n",
        "results = cur.fetchall()\n",
        "for row in results:\n",
        "    print(row)"
      ]
    },
    {
      "cell_type": "markdown",
      "metadata": {
        "id": "QfqKHHgPZkXO"
      },
      "source": [
        "Lets say you would like to instead just retrieve one record from the database. You can do this by writing a more specific query, say for Donald Knuth's id of 2, and following that up by calling fetchone() method of the cursor object."
      ]
    },
    {
      "cell_type": "code",
      "execution_count": null,
      "metadata": {
        "colab": {
          "base_uri": "https://localhost:8080/"
        },
        "id": "4FCcP5yvZkXO",
        "outputId": "476ba07f-c1ce-446b-fc34-b5cdbdded6f7"
      },
      "outputs": [
        {
          "output_type": "stream",
          "name": "stdout",
          "text": [
            "(2, 'Donald', 'Knuth')\n"
          ]
        }
      ],
      "source": [
        "cur.execute(\"SELECT id, first_name, last_name FROM customers WHERE id = 2\")\n",
        "result = cur.fetchone()\n",
        "print(result)"
      ]
    },
    {
      "cell_type": "markdown",
      "metadata": {
        "id": "ZJDHt76HZkXO"
      },
      "source": [
        "See how the individual row of each result is in the form of a tuple? Well while tuples are a very useful Pythonic data structure for some programming use cases many people find them a bit hindering when it comes to the task of data retrieval. It just so happens that there is a way to represent the data in a way that is perhaps more flexible to some. All you need to do is set the row_factory method of the connection object to something more suitable such as sqlite3.Row. This will give you the ability to access the individual items of a row by position or keyword value."
      ]
    },
    {
      "cell_type": "code",
      "execution_count": null,
      "metadata": {
        "colab": {
          "base_uri": "https://localhost:8080/"
        },
        "id": "zBR-9ZVuZkXO",
        "outputId": "d8a9ede3-677f-459c-a7c8-c9a67a2ec4cd"
      },
      "outputs": [
        {
          "output_type": "stream",
          "name": "stdout",
          "text": [
            "Customer: Alan Turing's id is 1\n"
          ]
        }
      ],
      "source": [
        "con.row_factory = sqlite3.Row\n",
        "cur = con.cursor()\n",
        "cur.execute(\"SELECT id, first_name, last_name FROM customers WHERE id = 1\")\n",
        "result = cur.fetchone()\n",
        "id, first_name, last_name = result['id'], result['first_name'], result['last_name']\n",
        "print(f\"Customer: {first_name} {last_name}'s id is {id}\")"
      ]
    },
    {
      "cell_type": "markdown",
      "metadata": {
        "id": "C-lToCNPZkXY"
      },
      "source": [
        "<b style=\"color:red;\">Supplementary Activity:</b>\n",
        "1. Create a database and call it user.db\n",
        "2. Create a table named \"users\" and insert the following: (id int, name TEXT, email TEXT)\n",
        "3. Insert the following data: <br>\n",
        "(1, 'Jonathan','jvtaylar@gmail.com'),<br>\n",
        "(2, 'John','jonathan@gmail.com'),<br>\n",
        "(3,'cpeEncoders','encoders@gmail.com')<br>\n",
        "4. Select all data from users.\n",
        "5. Select id = 3 from users.\n",
        "6. Update user id = 3 name and set it to \"James.\"\n",
        "7. Insert the following data: (4, 'Cynthia','cynthia@gmail.com')\n",
        "8. Delete id = 4 from users.\n",
        "9. Display all contents in a formatted way."
      ]
    },
    {
      "cell_type": "code",
      "source": [
        "#1 Create a database and call it user.db\n",
        "import os\n",
        "import sqlite3\n",
        "\n",
        "DEFAULT_PATH1 = os.path.join('user.db')\n",
        "conn = sqlite3.connect(DEFAULT_PATH)\n",
        "curr = conn.cursor()"
      ],
      "metadata": {
        "id": "xipZWsacocdk"
      },
      "execution_count": null,
      "outputs": []
    },
    {
      "cell_type": "code",
      "source": [
        "#2 Create a table named \"users\" and insert the following: (id int, name TEXT, email TEXT)\n",
        "users_sql = \"CREATE TABLE users(id integer PRIMARY KEY, name text NOT NULL, email text NOT NULL )\"\n",
        "curr.execute(users_sql)"
      ],
      "metadata": {
        "colab": {
          "base_uri": "https://localhost:8080/"
        },
        "id": "SwmfpaQxo-kl",
        "outputId": "45d77805-8fe8-4ee8-94f4-f10eaadf5d05"
      },
      "execution_count": null,
      "outputs": [
        {
          "output_type": "execute_result",
          "data": {
            "text/plain": [
              "<sqlite3.Cursor at 0x7c62c0aba240>"
            ]
          },
          "metadata": {},
          "execution_count": 54
        }
      ]
    },
    {
      "cell_type": "code",
      "source": [
        "#3 Insert the following data:\n",
        "def userData(id,first_name, email):\n",
        "  insert_data = \"INSERT INTO users (id, name, email) VALUES (?, ?, ?)\"\n",
        "  curr.execute(insert_data, (id, first_name, email,))\n",
        "\n",
        "userData(1,'Jonathan', 'jvtaylar@gmail.com')\n",
        "userData(2,'John','jonathan@gmail.com')\n",
        "userData(3,'cpeEncoders','encoders@gmail.com')\n",
        "\n",
        "con.commit()"
      ],
      "metadata": {
        "id": "gNayZ2QNpcIM"
      },
      "execution_count": null,
      "outputs": []
    },
    {
      "cell_type": "code",
      "source": [
        "#4 Select all data from users.\n",
        "curr.execute(\"SELECT * FROM users\")\n",
        "table5 = curr.fetchall()\n",
        "for i in table5:\n",
        "  print(i)"
      ],
      "metadata": {
        "colab": {
          "base_uri": "https://localhost:8080/"
        },
        "id": "J_TIoVOSq1b-",
        "outputId": "472b1f43-599b-498e-88aa-ee07e4321eba"
      },
      "execution_count": null,
      "outputs": [
        {
          "output_type": "stream",
          "name": "stdout",
          "text": [
            "(1, 'Jonathan', 'jvtaylar@gmail.com')\n",
            "(2, 'John', 'jonathan@gmail.com')\n",
            "(3, 'cpeEncoders', 'encoders@gmail.com')\n"
          ]
        }
      ]
    },
    {
      "cell_type": "code",
      "source": [
        "#5 Select id = 3 from users.\n",
        "curr.execute(\"SELECT * FROM users WHERE id = 3\")\n",
        "print(curr.fetchone())"
      ],
      "metadata": {
        "colab": {
          "base_uri": "https://localhost:8080/"
        },
        "id": "cEVrqEYbrKgU",
        "outputId": "74c9be7f-268f-4878-f81b-20695eafb23d"
      },
      "execution_count": null,
      "outputs": [
        {
          "output_type": "stream",
          "name": "stdout",
          "text": [
            "(3, 'cpeEncoders', 'encoders@gmail.com')\n"
          ]
        }
      ]
    },
    {
      "cell_type": "code",
      "source": [
        "#6 Update user id = 3 name and set it to \"James.\"\n",
        "curr.execute(\"UPDATE users SET name = 'James' WHERE id = 3\")\n",
        "curr.execute(\"SELECT * FROM users WHERE id = 3\")\n",
        "print(curr.fetchone())"
      ],
      "metadata": {
        "colab": {
          "base_uri": "https://localhost:8080/"
        },
        "id": "QgMNB9A8ruUN",
        "outputId": "f7519832-fa3b-403b-dd69-349d6a74b81a"
      },
      "execution_count": null,
      "outputs": [
        {
          "output_type": "stream",
          "name": "stdout",
          "text": [
            "(3, 'James', 'encoders@gmail.com')\n"
          ]
        }
      ]
    },
    {
      "cell_type": "code",
      "source": [
        "#7 Insert the following data: (4, 'Cynthia','cynthia@gmail.com')\n",
        "userData(4, 'Cynthia','cynthia@gmail.com')"
      ],
      "metadata": {
        "id": "8k6ZalxJsN_2"
      },
      "execution_count": null,
      "outputs": []
    },
    {
      "cell_type": "code",
      "source": [
        "curr.execute(\"SELECT * FROM users\")\n",
        "table5 = curr.fetchall()\n",
        "for i in table5:\n",
        "  print(i)\n"
      ],
      "metadata": {
        "colab": {
          "base_uri": "https://localhost:8080/"
        },
        "id": "EfWLOT4is8XO",
        "outputId": "7a61e061-66df-4214-8325-a542973eb178"
      },
      "execution_count": null,
      "outputs": [
        {
          "output_type": "stream",
          "name": "stdout",
          "text": [
            "(1, 'Jonathan', 'jvtaylar@gmail.com')\n",
            "(2, 'John', 'jonathan@gmail.com')\n",
            "(3, 'James', 'encoders@gmail.com')\n",
            "(4, 'Cynthia', 'cynthia@gmail.com')\n"
          ]
        }
      ]
    },
    {
      "cell_type": "code",
      "source": [
        "#8 Delete id = 4 from users.\n",
        "curr.execute(\"DELETE FROM users WHERE id = 4\")"
      ],
      "metadata": {
        "colab": {
          "base_uri": "https://localhost:8080/"
        },
        "id": "7s3p04oXtDal",
        "outputId": "a0d67eff-57c2-4aac-b9dc-42be72a316ba"
      },
      "execution_count": null,
      "outputs": [
        {
          "output_type": "execute_result",
          "data": {
            "text/plain": [
              "<sqlite3.Cursor at 0x7c62c0aba240>"
            ]
          },
          "metadata": {},
          "execution_count": 82
        }
      ]
    },
    {
      "cell_type": "code",
      "source": [
        "curr.execute(\"SELECT * FROM users\")\n",
        "table5 = curr.fetchall()\n",
        "for i in table5:\n",
        "  print(i)\n"
      ],
      "metadata": {
        "colab": {
          "base_uri": "https://localhost:8080/"
        },
        "id": "cFV8voxXtNW-",
        "outputId": "2d32ff57-df3d-402d-cb75-a7adc678e742"
      },
      "execution_count": null,
      "outputs": [
        {
          "output_type": "stream",
          "name": "stdout",
          "text": [
            "(1, 'Jonathan', 'jvtaylar@gmail.com')\n",
            "(2, 'John', 'jonathan@gmail.com')\n",
            "(3, 'James', 'encoders@gmail.com')\n"
          ]
        }
      ]
    },
    {
      "cell_type": "code",
      "source": [
        "#9 Display all contents in a formatted way.\n",
        "curr.execute(\"SELECT * FROM users\")\n",
        "formatted_result = [f\"{id:<5}{name:<15}{email:>5}\" for id, name, email in curr.fetchall()]\n",
        "id, name, email = \"ID\", \"Name\", \"Email\"\n",
        "print('\\n'.join([f\"{id:<5}{name:<15}{email:>5}\"] + formatted_result))"
      ],
      "metadata": {
        "colab": {
          "base_uri": "https://localhost:8080/"
        },
        "id": "tPKVkP2EtP_1",
        "outputId": "06de0719-05cd-44e3-fc72-d7f3d2decea7"
      },
      "execution_count": null,
      "outputs": [
        {
          "output_type": "stream",
          "name": "stdout",
          "text": [
            "ID   Name           Email\n",
            "1    Jonathan       jvtaylar@gmail.com\n",
            "2    John           jonathan@gmail.com\n",
            "3    James          encoders@gmail.com\n"
          ]
        }
      ]
    },
    {
      "cell_type": "markdown",
      "metadata": {
        "id": "AT76HLCoZkXY"
      },
      "source": [
        "<b style=\"color:red;\">Conclusions/Observations:</b>\n"
      ]
    },
    {
      "cell_type": "markdown",
      "source": [
        "<b>CONCLUSIONS:"
      ],
      "metadata": {
        "id": "QwVC9OPnuvRm"
      }
    },
    {
      "cell_type": "markdown",
      "source": [
        "- In this activity, I relearned a lot of topics in Database management systems especially the queries that were used in different situations like selection of data, updating the tables, deleting specific data and displaying the table in a formatted way. I learned that SQLite is very flexible and it is integrated to the python language in such a way that it does not feel out of place when creating a query. The activities here are really fun and it is not that hard when you really understand how databases work. I am thrilled by this learning because I never thought that I can create databases without using XAMPP or the software of SQL."
      ],
      "metadata": {
        "id": "_vc4ZKoTto9G"
      }
    },
    {
      "cell_type": "markdown",
      "source": [
        "<b>OBSERVATIONS:\n",
        "\n"
      ],
      "metadata": {
        "id": "BqZVXkqdu_ww"
      }
    },
    {
      "cell_type": "markdown",
      "source": [
        "- I observed that SQL queries are kinda long if implemented one by one that is why I created different implementations for queries. The first implementation is a crude implementation where I repeat the codes and just replace the values. The second implementation is cleaner because I created a function so that I can just call it multiple times if I am inserting a lot of data. This implementation can be improved more and can be more efficient if it is done by looping in an array of the data that needs to be inserted. Another observation that I made is that sqlite3 can really be cloud-based since the database is created here in the Google Colab. You can also access databases using the sqlite_master."
      ],
      "metadata": {
        "id": "jThori-HvFPP"
      }
    }
  ],
  "metadata": {
    "kernelspec": {
      "display_name": "Python 3",
      "language": "python",
      "name": "python3"
    },
    "language_info": {
      "codemirror_mode": {
        "name": "ipython",
        "version": 3
      },
      "file_extension": ".py",
      "mimetype": "text/x-python",
      "name": "python",
      "nbconvert_exporter": "python",
      "pygments_lexer": "ipython3",
      "version": "3.7.7"
    },
    "colab": {
      "provenance": []
    }
  },
  "nbformat": 4,
  "nbformat_minor": 0
}